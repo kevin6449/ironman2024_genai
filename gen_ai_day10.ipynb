{
  "nbformat": 4,
  "nbformat_minor": 0,
  "metadata": {
    "colab": {
      "provenance": [],
      "authorship_tag": "ABX9TyOPlH98ZBEtoga996iERMEq",
      "include_colab_link": true
    },
    "kernelspec": {
      "name": "python3",
      "display_name": "Python 3"
    },
    "language_info": {
      "name": "python"
    }
  },
  "cells": [
    {
      "cell_type": "markdown",
      "metadata": {
        "id": "view-in-github",
        "colab_type": "text"
      },
      "source": [
        "<a href=\"https://colab.research.google.com/github/kevin6449/ironman2024_genai/blob/main/gen_ai_day10.ipynb\" target=\"_parent\"><img src=\"https://colab.research.google.com/assets/colab-badge.svg\" alt=\"Open In Colab\"/></a>"
      ]
    },
    {
      "cell_type": "markdown",
      "source": [
        "# 程式碼執行\n"
      ],
      "metadata": {
        "id": "iCA9b2106KZV"
      }
    },
    {
      "cell_type": "code",
      "execution_count": 1,
      "metadata": {
        "id": "jkKg6GCU45iA"
      },
      "outputs": [],
      "source": [
        "import google.generativeai as genai"
      ]
    },
    {
      "cell_type": "code",
      "source": [
        "from google.colab import userdata\n",
        "\n",
        "API_KEY=userdata.get('GOOGLE_API_KEY')"
      ],
      "metadata": {
        "id": "9s21HlRgANOv"
      },
      "execution_count": 2,
      "outputs": []
    },
    {
      "cell_type": "code",
      "source": [
        "#genai.configure(api_key=\"YOUR_API_KEY\")\n",
        "\n",
        "# Configure the client library by providing your API key.\n",
        "genai.configure(api_key=API_KEY)"
      ],
      "metadata": {
        "id": "glELLI6JAPsE"
      },
      "execution_count": 3,
      "outputs": []
    },
    {
      "cell_type": "markdown",
      "source": [
        "## 允許在模型上執行程式碼"
      ],
      "metadata": {
        "id": "fWKR2yAxA_z3"
      }
    },
    {
      "cell_type": "code",
      "source": [
        "model = genai.GenerativeModel(\n",
        "    model_name='gemini-1.5-pro',\n",
        "    tools='code_execution')\n",
        "\n",
        "response = model.generate_content((\n",
        "    '請用繁體中文回答'\n",
        "    '前 50 個質數的和是多少？'\n",
        "    '生成並運行計算程式碼，並確保獲得全部 50 個結果。'\n",
        "    '產生並運行計算程式碼，並確保獲得全部 50 個結果。'))\n",
        "\n",
        "print(response.text)"
      ],
      "metadata": {
        "colab": {
          "base_uri": "https://localhost:8080/",
          "height": 680
        },
        "id": "LSH2UENdAT77",
        "outputId": "3551563f-48ec-4c3d-9833-a7f6e2371e28"
      },
      "execution_count": 5,
      "outputs": [
        {
          "output_type": "stream",
          "name": "stdout",
          "text": [
            "好的，我會用繁體中文回答您的問題。\n",
            "\n",
            "您的問題是：前 50 個質數的和是多少？\n",
            "\n",
            "讓我先寫一個程式來找出前 50 個質數，然後再算出它們的總和。\n",
            "\n",
            "\n",
            "``` python\n",
            "def is_prime(n):\n",
            "  \"\"\"判斷一個數是否為質數\"\"\"\n",
            "  if n <= 1:\n",
            "    return False\n",
            "  for i in range(2, int(n**0.5) + 1):\n",
            "    if n % i == 0:\n",
            "      return False\n",
            "  return True\n",
            "\n",
            "\n",
            "primes = []\n",
            "n = 2\n",
            "while len(primes) < 50:\n",
            "  if is_prime(n):\n",
            "    primes.append(n)\n",
            "  n += 1\n",
            "\n",
            "print(f\"前 50 個質數為: {primes}\")\n",
            "print(f\"它們的總和是: {sum(primes)}\")\n",
            "\n",
            "```\n",
            "```\n",
            "前 50 個質數為: [2, 3, 5, 7, 11, 13, 17, 19, 23, 29, 31, 37, 41, 43, 47, 53, 59, 61, 67, 71, 73, 79, 83, 89, 97, 101, 103, 107, 109, 113, 127, 131, 137, 139, 149, 151, 157, 163, 167, 173, 179, 181, 191, 193, 197, 199, 211, 223, 227, 229]\n",
            "它們的總和是: 5117\n",
            "\n",
            "```\n",
            "因此，前 50 個質數的總和是 **5117**。 \n",
            "\n"
          ]
        }
      ]
    },
    {
      "cell_type": "markdown",
      "source": [
        "## 在要求中啟用程式碼"
      ],
      "metadata": {
        "id": "Zp5fX0SmB_8Y"
      }
    },
    {
      "cell_type": "code",
      "source": [
        "model = genai.GenerativeModel(model_name='gemini-1.5-pro')\n",
        "\n",
        "response = model.generate_content(\n",
        "    ('請用繁體中文回答'\n",
        "    '前 50 個質數的和是多少？'\n",
        "    '生成並運行計算程式碼，並確保獲得全部 50 個結果。'\n",
        "    '使用 Kotlin 程式碼來完成這個任務'),\n",
        "    tools='code_execution')\n",
        "\n",
        "print(response.text)"
      ],
      "metadata": {
        "colab": {
          "base_uri": "https://localhost:8080/",
          "height": 856
        },
        "id": "v_icHgz5CB42",
        "outputId": "67e99c0e-ba40-4006-f206-5863cd35fded"
      },
      "execution_count": 7,
      "outputs": [
        {
          "output_type": "stream",
          "name": "stdout",
          "text": [
            "好的，我會用 Kotlin 程式碼計算前 50 個質數的總和。\n",
            "\n",
            "首先，我們需要一個函數來檢查一個數字是否為質數：\n",
            "\n",
            "```kotlin\n",
            "fun isPrime(num: Int): Boolean {\n",
            "    if (num <= 1) return false\n",
            "    for (i in 2..Math.sqrt(num.toDouble()).toInt()) {\n",
            "        if (num % i == 0) return false\n",
            "    }\n",
            "    return true\n",
            "}\n",
            "```\n",
            "\n",
            "接下來，我們可以創建一個函數來生成質數並計算總和：\n",
            "\n",
            "```kotlin\n",
            "fun sumOfPrimes(n: Int): Int {\n",
            "    val primes = mutableListOf<Int>()\n",
            "    var num = 2\n",
            "    var sum = 0\n",
            "    while (primes.size < n) {\n",
            "        if (isPrime(num)) {\n",
            "            primes.add(num)\n",
            "            sum += num\n",
            "        }\n",
            "        num++\n",
            "    }\n",
            "    return sum\n",
            "}\n",
            "```\n",
            "\n",
            "最後，我們可以調用 `sumOfPrimes(50)` 來獲得前 50 個質數的總和：\n",
            "\n",
            "```kotlin\n",
            "fun main() {\n",
            "    val sum = sumOfPrimes(50)\n",
            "    println(\"前 50 個質數的總和為：$sum\")\n",
            "}\n",
            "```\n",
            "\n",
            "這段程式碼將輸出：\n",
            "\n",
            "```\n",
            "前 50 個質數的總和為：5117\n",
            "``` \n",
            "\n"
          ]
        }
      ]
    },
    {
      "cell_type": "markdown",
      "source": [
        "## 在即時通訊中使用程式碼"
      ],
      "metadata": {
        "id": "2AaBZyZHC4a7"
      }
    },
    {
      "cell_type": "code",
      "source": [
        "model = genai.GenerativeModel(model_name='gemini-1.5-pro',\n",
        "                              tools='code_execution')\n",
        "\n",
        "chat = model.start_chat()\n",
        "\n",
        "response = chat.send_message((\n",
        "    '請用繁體中文回答'\n",
        "    '前 50 個質數的和是多少？'\n",
        "    '生成並運行計算程式碼，並確保獲得全部 50 個結果。'\n",
        "    '使用 go 程式碼來完成這個任務'))\n",
        "\n",
        "print(response.text)"
      ],
      "metadata": {
        "colab": {
          "base_uri": "https://localhost:8080/",
          "height": 910
        },
        "id": "k3tdZ-ioC_nU",
        "outputId": "a6919163-95a7-4ce6-cdff-57da5c1605b4"
      },
      "execution_count": 9,
      "outputs": [
        {
          "output_type": "stream",
          "name": "stdout",
          "text": [
            "好的，我會用 Go 語言編寫一個程式來找出前 50 個質數的總和。\n",
            "\n",
            "首先，我們需要一個函數來檢查一個數字是否為質數：\n",
            "\n",
            "```go\n",
            "func isPrime(n int) bool {\n",
            "  if n <= 1 {\n",
            "    return false\n",
            "  }\n",
            "  for i := 2; i*i <= n; i++ {\n",
            "    if n%i == 0 {\n",
            "      return false\n",
            "    }\n",
            "  }\n",
            "  return true\n",
            "}\n",
            "```\n",
            "\n",
            "接著，我們可以使用這個函數來找到前 50 個質數並計算它們的總和：\n",
            "\n",
            "```go\n",
            "package main\n",
            "\n",
            "import \"fmt\"\n",
            "\n",
            "func main() {\n",
            "  count := 0\n",
            "  sum := 0\n",
            "  num := 2\n",
            "\n",
            "  for count < 50 {\n",
            "    if isPrime(num) {\n",
            "      sum += num\n",
            "      count++\n",
            "    }\n",
            "    num++\n",
            "  }\n",
            "\n",
            "  fmt.Println(\"前 50 個質數的總和為：\", sum)\n",
            "}\n",
            "```\n",
            "\n",
            "這個程式會逐一檢查數字，如果找到一個質數，它會將其加到 `sum` 並且將 `count` 增加 1。當 `count` 達到 50 時，迴圈就會停止，並印出前 50 個質數的總和。 \n",
            "\n",
            "執行這個程式，你會得到以下輸出：\n",
            "\n",
            "```\n",
            "前 50 個質數的總和為：5117\n",
            "``` \n",
            "\n"
          ]
        }
      ]
    },
    {
      "cell_type": "markdown",
      "source": [
        "### 限制\n",
        "- 模型只能產生及執行程式碼。無法傳回其他構件 例如媒體檔案\n",
        "- 這項功能不支援檔案 I/O，或是涉及非文字輸出的用途 (例如資料圖表或上傳的 CSV 檔案)。\n",
        "- 程式碼在逾時前最多可執行 30 秒。\n",
        "- 在某些情況下，啟用程式碼執行功能可能導致其他區域發生迴歸問題 例如寫故事\n",
        "- 不同模型使用程式碼的方式可能有所不同 成功執行。Gemini 1.5 Pro 的表現最優異"
      ],
      "metadata": {
        "id": "xcVtTLjJDjFG"
      }
    }
  ]
}