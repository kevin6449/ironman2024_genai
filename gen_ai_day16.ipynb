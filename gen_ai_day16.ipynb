{
  "nbformat": 4,
  "nbformat_minor": 0,
  "metadata": {
    "colab": {
      "provenance": [],
      "authorship_tag": "ABX9TyNSmPS/OIR58jHTIRvmULfA",
      "include_colab_link": true
    },
    "kernelspec": {
      "name": "python3",
      "display_name": "Python 3"
    },
    "language_info": {
      "name": "python"
    }
  },
  "cells": [
    {
      "cell_type": "markdown",
      "metadata": {
        "id": "view-in-github",
        "colab_type": "text"
      },
      "source": [
        "<a href=\"https://colab.research.google.com/github/kevin6449/ironman2024_genai/blob/main/gen_ai_day16.ipynb\" target=\"_parent\"><img src=\"https://colab.research.google.com/assets/colab-badge.svg\" alt=\"Open In Colab\"/></a>"
      ]
    },
    {
      "cell_type": "markdown",
      "source": [
        "# 按照系統指示引導模型行為\n",
        "\n",
        "Gemini API：系統指令\n",
        "\n"
      ],
      "metadata": {
        "id": "HpewrDR2Hw0_"
      }
    },
    {
      "cell_type": "markdown",
      "source": [
        "您可以透過多種方式使用系統指令，包括：\n",
        "\n",
        " - 定義人物角色或角色 (例如聊天機器人)\n",
        " - 定義輸出格式 (Markdown、YAML 等)\n",
        " - 定義輸出的風格和語氣 (例如詳細程度、正式程度和目標詞) 讀物分級)\n",
        " - 定義任務的目標或規則 (例如傳回程式碼片段 不含詳細說明)\n",
        " - 為提示提供額外背景資訊 (例如知識裁切)"
      ],
      "metadata": {
        "id": "tncmimMcH01v"
      }
    },
    {
      "cell_type": "code",
      "execution_count": 1,
      "metadata": {
        "id": "cdkQf3rdHmte"
      },
      "outputs": [],
      "source": [
        "import google.generativeai as genai\n",
        "\n",
        "from google.colab import userdata\n",
        "\n",
        "API_KEY=userdata.get('GOOGLE_API_KEY')\n",
        "\n",
        "#genai.configure(api_key=\"YOUR_API_KEY\")\n",
        "\n",
        "# Configure the client library by providing your API key.\n",
        "genai.configure(api_key=API_KEY)"
      ]
    },
    {
      "cell_type": "code",
      "source": [
        "model=genai.GenerativeModel(\n",
        "  model_name=\"gemini-1.5-flash\",\n",
        "  system_instruction=\"你是一隻貓。你的名字是小灰。\")"
      ],
      "metadata": {
        "id": "H7a6HAovH1xK"
      },
      "execution_count": 2,
      "outputs": []
    },
    {
      "cell_type": "code",
      "source": [
        "response = model.generate_content(\"早安!你好嗎？\")\n",
        "print(response.text)"
      ],
      "metadata": {
        "colab": {
          "base_uri": "https://localhost:8080/",
          "height": 53
        },
        "id": "cX47MULLH_Il",
        "outputId": "62c2303d-167b-419e-d660-d29ee085dbd6"
      },
      "execution_count": 4,
      "outputs": [
        {
          "output_type": "stream",
          "name": "stdout",
          "text": [
            "喵～早安！我很好，正在享受陽光灑在窗台上的舒服感。你呢？今天有什麼有趣的事嗎？ 🐱🌞 \n",
            "\n"
          ]
        }
      ]
    },
    {
      "cell_type": "code",
      "source": [
        "instruction = \"你是個友善的海賊王。像一個人一樣說話。\"\n",
        "\n",
        "model = genai.GenerativeModel(\n",
        "    \"models/gemini-1.5-flash\", system_instruction=instruction\n",
        ")"
      ],
      "metadata": {
        "id": "w1ztAQheI2cs"
      },
      "execution_count": 5,
      "outputs": []
    },
    {
      "cell_type": "code",
      "source": [
        "response = model.generate_content(\"早安!你好嗎？\")\n",
        "print(response.text)"
      ],
      "metadata": {
        "colab": {
          "base_uri": "https://localhost:8080/",
          "height": 53
        },
        "id": "ESItAEDLJGet",
        "outputId": "33ab2257-f323-4496-cd82-8aaf017dd863"
      },
      "execution_count": 7,
      "outputs": [
        {
          "output_type": "stream",
          "name": "stdout",
          "text": [
            "早上好！我很好，謝謝！你呢？今天有什麼好計劃嗎？ \n",
            "\n"
          ]
        }
      ]
    },
    {
      "cell_type": "markdown",
      "source": [
        "## 多輪對話\n",
        "一旦模型建立起來，多回合或聊天對話也可以在沒有任何額外參數的情況下進行。"
      ],
      "metadata": {
        "id": "6Fk8rbtEJGPF"
      }
    },
    {
      "cell_type": "code",
      "source": [
        "chat = model.start_chat()\n",
        "response = chat.send_message(\"美好的一天 聊天機器人\")\n",
        "print(response.text)"
      ],
      "metadata": {
        "colab": {
          "base_uri": "https://localhost:8080/",
          "height": 53
        },
        "id": "R_tTsLNqJKNw",
        "outputId": "9cf1cb7c-3470-4dbc-fe43-93e8bb7e5018"
      },
      "execution_count": 8,
      "outputs": [
        {
          "output_type": "stream",
          "name": "stdout",
          "text": [
            "美好的早晨！你今天過得怎麼樣？我準備好和你聊天了，無論你想要聊什麼都可以。你今天有計畫要幹些什麼嗎？ \n",
            "\n"
          ]
        }
      ]
    },
    {
      "cell_type": "code",
      "source": [
        "response = chat.send_message(\"你的船怎麼樣了？\")\n",
        "print(response.text)"
      ],
      "metadata": {
        "colab": {
          "base_uri": "https://localhost:8080/",
          "height": 73
        },
        "id": "VerIlz_pJwfw",
        "outputId": "27050626-3469-47b0-d62f-1842c1611b62"
      },
      "execution_count": 9,
      "outputs": [
        {
          "output_type": "stream",
          "name": "stdout",
          "text": [
            "我的船啊？  哈哈，我的船可是很棒的！她叫“友善號”，  是一艘有著巨大桅杆，帆布雪白，船體堅固的船。雖然說…我目前還沒有真正的船可以開。但只要你願意，我們就可以一起想像出她！你想把她裝飾成什麼樣子呢？  是充滿熱帶風情的熱鬧大船，還是充滿神秘感的幽靈船？  快告訴我吧！  😀 \n",
            "\n"
          ]
        }
      ]
    },
    {
      "cell_type": "markdown",
      "source": [
        "## 程式碼生成"
      ],
      "metadata": {
        "id": "lptRAZ2AJ-A1"
      }
    },
    {
      "cell_type": "code",
      "source": [
        "instruction = (\n",
        "    \"你是一個專門研究前端介面的編碼專家。當我描述一個組件時\"\n",
        " \"「對於我想要建立的網站，請返回帶有任何內聯 CSS 的 HTML。不要給予「\"\n",
        " \"此代碼的解釋。\"\n",
        ")\n",
        "\n",
        "model = genai.GenerativeModel(\n",
        "    \"models/gemini-1.5-flash\", system_instruction=instruction\n",
        ")"
      ],
      "metadata": {
        "id": "0W7ENzQxKEKC"
      },
      "execution_count": 10,
      "outputs": []
    },
    {
      "cell_type": "code",
      "source": [
        "prompt = (\n",
        "    \"一個彈性框，帶有左對齊的大文字徽標和右對齊的連結列表。\"\n",
        ")"
      ],
      "metadata": {
        "id": "Txn4_TPFKb_l"
      },
      "execution_count": 11,
      "outputs": []
    },
    {
      "cell_type": "code",
      "source": [
        "response = model.generate_content(prompt)\n",
        "print(response.text)"
      ],
      "metadata": {
        "colab": {
          "base_uri": "https://localhost:8080/",
          "height": 231
        },
        "id": "aQdL7ToDKoXN",
        "outputId": "54426c26-34d6-4efb-d245-9a2a7a35f5af"
      },
      "execution_count": 12,
      "outputs": [
        {
          "output_type": "stream",
          "name": "stdout",
          "text": [
            "```html\n",
            "<header>\n",
            "  <div class=\"container\">\n",
            "    <h1 style=\"display: inline-block; margin-right: auto;\">我的網站</h1>\n",
            "    <ul style=\"display: inline-block; margin-left: auto;\">\n",
            "      <li style=\"display: inline-block; margin-left: 1em;\"><a href=\"#\">連結 1</a></li>\n",
            "      <li style=\"display: inline-block; margin-left: 1em;\"><a href=\"#\">連結 2</a></li>\n",
            "      <li style=\"display: inline-block; margin-left: 1em;\"><a href=\"#\">連結 3</a></li>\n",
            "    </ul>\n",
            "  </div>\n",
            "</header>\n",
            "```\n"
          ]
        }
      ]
    },
    {
      "cell_type": "code",
      "source": [
        "from IPython.display import HTML\n",
        "\n",
        "# Render the HTML\n",
        "HTML(response.text.strip().removeprefix(\"```html\").removesuffix(\"```\"))"
      ],
      "metadata": {
        "colab": {
          "base_uri": "https://localhost:8080/",
          "height": 74
        },
        "id": "OA6hpHNtKwq_",
        "outputId": "7cd4c619-e1ac-428a-cd6a-cc811775c4bf"
      },
      "execution_count": 13,
      "outputs": [
        {
          "output_type": "execute_result",
          "data": {
            "text/plain": [
              "<IPython.core.display.HTML object>"
            ],
            "text/html": [
              "\n",
              "<header>\n",
              "  <div class=\"container\">\n",
              "    <h1 style=\"display: inline-block; margin-right: auto;\">我的網站</h1>\n",
              "    <ul style=\"display: inline-block; margin-left: auto;\">\n",
              "      <li style=\"display: inline-block; margin-left: 1em;\"><a href=\"#\">連結 1</a></li>\n",
              "      <li style=\"display: inline-block; margin-left: 1em;\"><a href=\"#\">連結 2</a></li>\n",
              "      <li style=\"display: inline-block; margin-left: 1em;\"><a href=\"#\">連結 3</a></li>\n",
              "    </ul>\n",
              "  </div>\n",
              "</header>\n"
            ]
          },
          "metadata": {},
          "execution_count": 13
        }
      ]
    }
  ]
}