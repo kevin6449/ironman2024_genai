{
  "nbformat": 4,
  "nbformat_minor": 0,
  "metadata": {
    "colab": {
      "provenance": [],
      "authorship_tag": "ABX9TyOJafPLvOgn6E+pbv1tgS5L",
      "include_colab_link": true
    },
    "kernelspec": {
      "name": "python3",
      "display_name": "Python 3"
    },
    "language_info": {
      "name": "python"
    }
  },
  "cells": [
    {
      "cell_type": "markdown",
      "metadata": {
        "id": "view-in-github",
        "colab_type": "text"
      },
      "source": [
        "<a href=\"https://colab.research.google.com/github/kevin6449/ironman2024_genai/blob/main/gen_ai_day15.ipynb\" target=\"_parent\"><img src=\"https://colab.research.google.com/assets/colab-badge.svg\" alt=\"Open In Colab\"/></a>"
      ]
    },
    {
      "cell_type": "markdown",
      "source": [
        "# 使用函式呼叫擷取結構化資料"
      ],
      "metadata": {
        "id": "uvxM8e3N-eID"
      }
    },
    {
      "cell_type": "markdown",
      "source": [
        "使用 Gemini API 擷取結構化資料，從故事中擷取角色、關係、事物和地點的清單。"
      ],
      "metadata": {
        "id": "x4U3xnkr-kAF"
      }
    },
    {
      "cell_type": "code",
      "execution_count": 1,
      "metadata": {
        "id": "DT6a5iC18Pl6"
      },
      "outputs": [],
      "source": [
        "import google.generativeai as genai\n",
        "\n",
        "from google.colab import userdata\n",
        "\n",
        "API_KEY=userdata.get('GOOGLE_API_KEY')\n",
        "\n",
        "#genai.configure(api_key=\"YOUR_API_KEY\")\n",
        "\n",
        "# Configure the client library by providing your API key.\n",
        "genai.configure(api_key=API_KEY)"
      ]
    },
    {
      "cell_type": "code",
      "source": [
        "import pathlib\n",
        "import textwrap\n",
        "\n",
        "import google.generativeai as genai\n",
        "\n",
        "\n",
        "from IPython.display import display\n",
        "from IPython.display import Markdown\n",
        "\n",
        "from google.api_core import retry\n",
        "\n",
        "def to_markdown(text):\n",
        "  text = text.replace('•', '  *')\n",
        "  return Markdown(textwrap.indent(text, '> ', predicate=lambda _: True))"
      ],
      "metadata": {
        "id": "5d_zEySo8f3d"
      },
      "execution_count": 2,
      "outputs": []
    },
    {
      "cell_type": "markdown",
      "source": [
        "從自然語言故事中擷取實體。身為 以下範例是由 Gemini 撰寫的故事。"
      ],
      "metadata": {
        "id": "rwl5YKL2PVHg"
      }
    },
    {
      "cell_type": "code",
      "source": [
        "new_story = False\n",
        "\n",
        "if new_story:\n",
        "  model = genai.GenerativeModel(model_name='models/gemini-1.5-pro-latest')\n",
        "\n",
        "  response = model.generate_content(\"\"\"\n",
        "      寫一個關於一個背著魔法背包的女孩、她的家人以及在\n",
        " 至少還有一個角色。確保每個人都有名字。別忘了\n",
        " 描述背包中的物品以及每個人和所有物品的位置\n",
        " 開始和結束。\"\"\", request_options={'retry': retry.Retry()})\n",
        "  story = response.text\n",
        "  print(response.candidates[0].citation_metadata)\n",
        "else:\n",
        "  story = \"\"\"在古色古香的柳溪鎮，坐落在起伏的山巒和低語的柳樹之中，住著一個名叫安雅的年輕女孩。當她走出簡陋小屋的吱吱作響的木門時，她的心因興奮和期待而漏跳了一拍。今天是她上學的第一天，她迫不及待地想炫耀自己的寶貝——一個神奇的背包。 \\n\\n這個背包是她祖母傳給她的，可不是普通的書包。它柔軟的翠綠色織物閃爍著空靈的光芒，它的皮帶上藏著只有安雅知道的秘密。其寬敞的內部是一個迷人的世界，充滿了奇蹟，這些奇蹟將激發她的想像並永遠改變她的生活。的擁抱向她告別。 “記住，親愛的，”她母親低聲說道，“明智地、永遠地使用你的魔法。”她的父親補充說：「永遠尋求知識，讓背包成為你值得信賴的伴侶。」\\n\\n安雅腳步輕快，向鎮上唯一的校舍走去。在路上，她經過了她最好的朋友塞繆爾，一個充滿好奇心、喜歡冒險、帶著頑皮笑容的男孩。 「嘿，安雅，」他喊道。 「我可以看看你的背包嗎？」\\n\\n安雅猶豫了一會兒，然後拉開拉鍊，露出裡面的東西。塞繆爾向裡面看去，驚訝地睜大了眼睛。在那裡，在鉛筆和筆記本中間，有一把閃閃發光的劍、一本古老的咒語書、一個始終指向北方的小指南針，以及一把可以打開任何鎖的神奇鑰匙。背包的奇蹟，並承諾以確保其秘密的安全。當他們接近校舍時，安雅注意到一群年紀較大的孩子擠在一起，臉上充滿了恐懼。好奇心戰勝了她，她小心翼翼地靠近。她問道。 「森林裡有個怪物。」他結結巴巴地說。 「它一直在恐嚇小鎮，攻擊動物甚至人類。」\\n\\n安雅的心沉了下去。柳溪鎮小而寧靜，一想到怪物就讓她背脊發涼。她知道她必須做點什麼來保護她的家人和朋友。她眼中閃爍著堅定的光芒，轉向驚恐的同伴。 「別擔心，」她聲音平穩地說。 「我會處理的。」\\n\\n塞繆爾緊隨其後，安雅冒險走進了森林的陰暗深處。當她經過時，樹木似乎在低聲訴說著秘密，灌木叢中看不見的生物沙沙作響。隨著他們向森林深處走去，空氣變得凝重，腳下的地面都在顫抖。獸。這個生物咆哮著，雷鳴般的聲音震動了森林的核心。她從劍鞘中拔出劍，向怪物衝去。劍刃在陽光下閃閃發光，當它擊中怪物的皮毛時，爆發出耀眼的光芒，將一切都籠罩在光芒中。的水晶。安雅用背包的魔法打敗了這個生物，證明即使是最小的物體也能擁有最強大的力量。 \\n\\n當她和塞繆爾回到小鎮時，他們受到了英雄般的歡迎。柳溪人歡欣鼓舞，背著魔法背包的女孩安雅的傳說也世代相傳。因此，安雅繼續她的冒險，利用背包的奇蹟，一步一步神奇地讓世界變得更美好。\"\"\""
      ],
      "metadata": {
        "id": "W1MlGoDL8fwq"
      },
      "execution_count": 27,
      "outputs": []
    },
    {
      "cell_type": "code",
      "source": [
        "to_markdown(story)"
      ],
      "metadata": {
        "colab": {
          "base_uri": "https://localhost:8080/",
          "height": 411
        },
        "id": "Ss5b17d_8qtK",
        "outputId": "2331a865-fa3b-4485-843d-a0b918a69ba8"
      },
      "execution_count": 28,
      "outputs": [
        {
          "output_type": "execute_result",
          "data": {
            "text/plain": [
              "<IPython.core.display.Markdown object>"
            ],
            "text/markdown": "> 在古色古香的柳溪鎮，坐落在起伏的山巒和低語的柳樹之中，住著一個名叫安雅的年輕女孩。當她走出簡陋小屋的吱吱作響的木門時，她的心因興奮和期待而漏跳了一拍。今天是她上學的第一天，她迫不及待地想炫耀自己的寶貝——一個神奇的背包。 \n> \n> 這個背包是她祖母傳給她的，可不是普通的書包。它柔軟的翠綠色織物閃爍著空靈的光芒，它的皮帶上藏著只有安雅知道的秘密。其寬敞的內部是一個迷人的世界，充滿了奇蹟，這些奇蹟將激發她的想像並永遠改變她的生活。的擁抱向她告別。 “記住，親愛的，”她母親低聲說道，“明智地、永遠地使用你的魔法。”她的父親補充說：「永遠尋求知識，讓背包成為你值得信賴的伴侶。」\n> \n> 安雅腳步輕快，向鎮上唯一的校舍走去。在路上，她經過了她最好的朋友塞繆爾，一個充滿好奇心、喜歡冒險、帶著頑皮笑容的男孩。 「嘿，安雅，」他喊道。 「我可以看看你的背包嗎？」\n> \n> 安雅猶豫了一會兒，然後拉開拉鍊，露出裡面的東西。塞繆爾向裡面看去，驚訝地睜大了眼睛。在那裡，在鉛筆和筆記本中間，有一把閃閃發光的劍、一本古老的咒語書、一個始終指向北方的小指南針，以及一把可以打開任何鎖的神奇鑰匙。背包的奇蹟，並承諾以確保其秘密的安全。當他們接近校舍時，安雅注意到一群年紀較大的孩子擠在一起，臉上充滿了恐懼。好奇心戰勝了她，她小心翼翼地靠近。她問道。 「森林裡有個怪物。」他結結巴巴地說。 「它一直在恐嚇小鎮，攻擊動物甚至人類。」\n> \n> 安雅的心沉了下去。柳溪鎮小而寧靜，一想到怪物就讓她背脊發涼。她知道她必須做點什麼來保護她的家人和朋友。她眼中閃爍著堅定的光芒，轉向驚恐的同伴。 「別擔心，」她聲音平穩地說。 「我會處理的。」\n> \n> 塞繆爾緊隨其後，安雅冒險走進了森林的陰暗深處。當她經過時，樹木似乎在低聲訴說著秘密，灌木叢中看不見的生物沙沙作響。隨著他們向森林深處走去，空氣變得凝重，腳下的地面都在顫抖。獸。這個生物咆哮著，雷鳴般的聲音震動了森林的核心。她從劍鞘中拔出劍，向怪物衝去。劍刃在陽光下閃閃發光，當它擊中怪物的皮毛時，爆發出耀眼的光芒，將一切都籠罩在光芒中。的水晶。安雅用背包的魔法打敗了這個生物，證明即使是最小的物體也能擁有最強大的力量。 \n> \n> 當她和塞繆爾回到小鎮時，他們受到了英雄般的歡迎。柳溪人歡欣鼓舞，背著魔法背包的女孩安雅的傳說也世代相傳。因此，安雅繼續她的冒險，利用背包的奇蹟，一步一步神奇地讓世界變得更美好。"
          },
          "metadata": {},
          "execution_count": 28
        }
      ]
    },
    {
      "cell_type": "markdown",
      "source": [
        "## 使用自然語言"
      ],
      "metadata": {
        "id": "Ua84__lmPepV"
      }
    },
    {
      "cell_type": "markdown",
      "source": [
        "大型語言模型是強大的多工處理工具。通常只要向 Gemini 問句即可，沒問題。\n",
        "\n",
        "Gemini API 不提供 JSON 模式，因此以這種方式產生資料結構時，請注意以下事項：\n",
        "\n",
        " - 有時剖析失敗。\n",
        " - 無法強制執行結構定義。"
      ],
      "metadata": {
        "id": "W5CnB1lfPgIp"
      }
    },
    {
      "cell_type": "markdown",
      "source": [
        "使用簡單的自然語言提示，搭配以文字呈現的結構定義。這未經最佳化："
      ],
      "metadata": {
        "id": "cIhQs0LOPqZ6"
      }
    },
    {
      "cell_type": "code",
      "source": [
        "model = genai.GenerativeModel(\n",
        "    model_name='models/gemini-1.5-pro-latest')\n",
        "\n",
        "response = model.generate_content(\n",
        "  textwrap.dedent(\"\"\"\\\n",
        "    請使用以下模式傳回描述此故事中的人物、地點、事物和關係的 JSON:\n",
        "\n",
        "    {\"people\": list[PERSON], \"places\":list[PLACE], \"things\":list[THING], \"relationships\": list[RELATIONSHIP]}\n",
        "\n",
        "    str 用繁體中文描述。例如:\"name\": \"柳溪鎮\"\n",
        "    PERSON = {\"name\": str, \"description\": str, \"start_place_name\": str, \"end_place_name\": str}\n",
        "    PLACE = {\"name\": str, \"description\": str}\n",
        "    THING = {\"name\": str, \"description\": str, \"start_place_name\": str, \"end_place_name\": str}\n",
        "    RELATIONSHIP = {\"person_1_name\": str, \"person_2_name\": str, \"relationship\": str}\n",
        "\n",
        "    所有欄位均為必填欄位。\n",
        "\n",
        " 重要提示：僅傳回一段有效的 JSON 文字。\n",
        "\n",
        " 故事是這樣的：\n",
        "\n",
        "    \"\"\") + story,\n",
        "  generation_config={'response_mime_type':'application/json'}\n",
        ")"
      ],
      "metadata": {
        "id": "8nzkF8088z5K"
      },
      "execution_count": 32,
      "outputs": []
    },
    {
      "cell_type": "code",
      "source": [
        "response.text"
      ],
      "metadata": {
        "colab": {
          "base_uri": "https://localhost:8080/",
          "height": 232
        },
        "id": "TEqrdgXJ858J",
        "outputId": "956fdd78-cba9-4c8d-fd8b-28484b88b670"
      },
      "execution_count": 33,
      "outputs": [
        {
          "output_type": "execute_result",
          "data": {
            "text/plain": [
              "'{\"people\": [{\"name\": \"安雅\", \"description\": \"一個住在柳溪鎮的年輕女孩，在上學第一天，帶著一個神奇的背包。\", \"start_place_name\": \"柳溪鎮\", \"end_place_name\": \"柳溪鎮\"}, {\"name\": \"安雅的祖母\", \"description\": \"送給安雅一個神奇背包的人。\", \"start_place_name\": \"柳溪鎮\", \"end_place_name\": \"柳溪鎮\"}, {\"name\": \"安雅的母親\", \"description\": \"提醒安雅明智地使用魔法的人。\", \"start_place_name\": \"柳溪鎮\", \"end_place_name\": \"柳溪鎮\"}, {\"name\": \"安雅的父親\", \"description\": \"告訴安雅要永遠追求知識的人。\", \"start_place_name\": \"柳溪鎮\", \"end_place_name\": \"柳溪鎮\"}, {\"name\": \"塞繆爾\", \"description\": \"安雅最好的朋友，一個充滿好奇心、喜歡冒險的男孩。\", \"start_place_name\": \"柳溪鎮\", \"end_place_name\": \"柳溪鎮\"}, {\"name\": \"一個年紀較大的孩子\", \"description\": \"告訴安雅森林裡有怪物的人。\", \"start_place_name\": \"柳溪鎮\", \"end_place_name\": \"柳溪鎮\"}], \"places\": [{\"name\": \"柳溪鎮\", \"description\": \"一個坐落在起伏的山巒和低語的柳樹之中的古色古香的小鎮。\"}, {\"name\": \"安雅簡陋的小屋\", \"description\": \"安雅在柳溪鎮的家。\"}, {\"name\": \"學校\", \"description\": \"柳溪鎮唯一的校舍。\"}, {\"name\": \"森林\", \"description\": \"一個黑暗而可怕的地方，怪物就住在那裡。\"}], \"things\": [{\"name\": \"神奇的背包\", \"description\": \"一個柔軟的翠綠色織物背包，裡面裝滿了神奇的物品，可以激發想像力。\", \"start_place_name\": \"安雅簡陋的小屋\", \"end_place_name\": \"森林\"}, {\"name\": \"閃閃發光的劍\", \"description\": \"背包裡用來打敗怪物的武器。\", \"start_place_name\": \"神奇的背包\", \"end_place_name\": \"森林\"}, {\"name\": \"古老的咒語書\", \"description\": \"背包裡裝滿了魔法和咒語的書。\", \"start_place_name\": \"神奇的背包\", \"end_place_name\": \"神奇的背包\"}, {\"name\": \"小指南針\", \"description\": \"背包裡始終指向北方的小指南針。\", \"start_place_name\": \"神奇的背包\", \"end_place_name\": \"神奇的背包\"}, {\"name\": \"神奇的鑰匙\", \"description\": \"背包裡可以打開任何鎖的鑰匙。\", \"start_place_name\": \"神奇的背包\", \"end_place_name\": \"神奇的背包\"}, {\"name\": \"鉛筆\", \"description\": \"安雅背包裡的學習用品。\", \"start_place_name\": \"神奇的背包\", \"end_place_name\": \"神奇的背包\"}, {\"name\": \"筆記本\", \"description\": \"安雅背包裡的學習用品。\", \"start_place_name\": \"神奇的背包\", \"end_place_name\": \"神奇的背包\"}], \"relationships\": [{\"person_1_name\": \"安雅\", \"person_2_name\": \"塞繆爾\", \"relationship\": \"最好的朋友\"}, {\"person_1_name\": \"安雅\", \"person_2_name\": \"安雅的祖母\", \"relationship\": \"孫女\"}, {\"person_1_name\": \"安雅\", \"person_2_name\": \"安雅的母親\", \"relationship\": \"女兒\"}, {\"person_1_name\": \"安雅\", \"person_2_name\": \"安雅的父親\", \"relationship\": \"女兒\"}]}\\n'"
            ],
            "application/vnd.google.colaboratory.intrinsic+json": {
              "type": "string"
            }
          },
          "metadata": {},
          "execution_count": 33
        }
      ]
    },
    {
      "cell_type": "markdown",
      "source": [
        "傳回 JSON 字串。請嘗試剖析："
      ],
      "metadata": {
        "id": "fhPkDOrtPvkp"
      }
    },
    {
      "cell_type": "code",
      "source": [
        "import json\n",
        "\n",
        "print(json.dumps(json.loads(response.text), indent=4))"
      ],
      "metadata": {
        "colab": {
          "base_uri": "https://localhost:8080/"
        },
        "id": "cFyKUmVz8-FP",
        "outputId": "6aa169d4-8fa1-4de8-bd58-663414ac4c9c"
      },
      "execution_count": 34,
      "outputs": [
        {
          "output_type": "stream",
          "name": "stdout",
          "text": [
            "{\n",
            "    \"people\": [\n",
            "        {\n",
            "            \"name\": \"\\u5b89\\u96c5\",\n",
            "            \"description\": \"\\u4e00\\u500b\\u4f4f\\u5728\\u67f3\\u6eaa\\u93ae\\u7684\\u5e74\\u8f15\\u5973\\u5b69\\uff0c\\u5728\\u4e0a\\u5b78\\u7b2c\\u4e00\\u5929\\uff0c\\u5e36\\u8457\\u4e00\\u500b\\u795e\\u5947\\u7684\\u80cc\\u5305\\u3002\",\n",
            "            \"start_place_name\": \"\\u67f3\\u6eaa\\u93ae\",\n",
            "            \"end_place_name\": \"\\u67f3\\u6eaa\\u93ae\"\n",
            "        },\n",
            "        {\n",
            "            \"name\": \"\\u5b89\\u96c5\\u7684\\u7956\\u6bcd\",\n",
            "            \"description\": \"\\u9001\\u7d66\\u5b89\\u96c5\\u4e00\\u500b\\u795e\\u5947\\u80cc\\u5305\\u7684\\u4eba\\u3002\",\n",
            "            \"start_place_name\": \"\\u67f3\\u6eaa\\u93ae\",\n",
            "            \"end_place_name\": \"\\u67f3\\u6eaa\\u93ae\"\n",
            "        },\n",
            "        {\n",
            "            \"name\": \"\\u5b89\\u96c5\\u7684\\u6bcd\\u89aa\",\n",
            "            \"description\": \"\\u63d0\\u9192\\u5b89\\u96c5\\u660e\\u667a\\u5730\\u4f7f\\u7528\\u9b54\\u6cd5\\u7684\\u4eba\\u3002\",\n",
            "            \"start_place_name\": \"\\u67f3\\u6eaa\\u93ae\",\n",
            "            \"end_place_name\": \"\\u67f3\\u6eaa\\u93ae\"\n",
            "        },\n",
            "        {\n",
            "            \"name\": \"\\u5b89\\u96c5\\u7684\\u7236\\u89aa\",\n",
            "            \"description\": \"\\u544a\\u8a34\\u5b89\\u96c5\\u8981\\u6c38\\u9060\\u8ffd\\u6c42\\u77e5\\u8b58\\u7684\\u4eba\\u3002\",\n",
            "            \"start_place_name\": \"\\u67f3\\u6eaa\\u93ae\",\n",
            "            \"end_place_name\": \"\\u67f3\\u6eaa\\u93ae\"\n",
            "        },\n",
            "        {\n",
            "            \"name\": \"\\u585e\\u7e46\\u723e\",\n",
            "            \"description\": \"\\u5b89\\u96c5\\u6700\\u597d\\u7684\\u670b\\u53cb\\uff0c\\u4e00\\u500b\\u5145\\u6eff\\u597d\\u5947\\u5fc3\\u3001\\u559c\\u6b61\\u5192\\u96aa\\u7684\\u7537\\u5b69\\u3002\",\n",
            "            \"start_place_name\": \"\\u67f3\\u6eaa\\u93ae\",\n",
            "            \"end_place_name\": \"\\u67f3\\u6eaa\\u93ae\"\n",
            "        },\n",
            "        {\n",
            "            \"name\": \"\\u4e00\\u500b\\u5e74\\u7d00\\u8f03\\u5927\\u7684\\u5b69\\u5b50\",\n",
            "            \"description\": \"\\u544a\\u8a34\\u5b89\\u96c5\\u68ee\\u6797\\u88e1\\u6709\\u602a\\u7269\\u7684\\u4eba\\u3002\",\n",
            "            \"start_place_name\": \"\\u67f3\\u6eaa\\u93ae\",\n",
            "            \"end_place_name\": \"\\u67f3\\u6eaa\\u93ae\"\n",
            "        }\n",
            "    ],\n",
            "    \"places\": [\n",
            "        {\n",
            "            \"name\": \"\\u67f3\\u6eaa\\u93ae\",\n",
            "            \"description\": \"\\u4e00\\u500b\\u5750\\u843d\\u5728\\u8d77\\u4f0f\\u7684\\u5c71\\u5dd2\\u548c\\u4f4e\\u8a9e\\u7684\\u67f3\\u6a39\\u4e4b\\u4e2d\\u7684\\u53e4\\u8272\\u53e4\\u9999\\u7684\\u5c0f\\u93ae\\u3002\"\n",
            "        },\n",
            "        {\n",
            "            \"name\": \"\\u5b89\\u96c5\\u7c21\\u964b\\u7684\\u5c0f\\u5c4b\",\n",
            "            \"description\": \"\\u5b89\\u96c5\\u5728\\u67f3\\u6eaa\\u93ae\\u7684\\u5bb6\\u3002\"\n",
            "        },\n",
            "        {\n",
            "            \"name\": \"\\u5b78\\u6821\",\n",
            "            \"description\": \"\\u67f3\\u6eaa\\u93ae\\u552f\\u4e00\\u7684\\u6821\\u820d\\u3002\"\n",
            "        },\n",
            "        {\n",
            "            \"name\": \"\\u68ee\\u6797\",\n",
            "            \"description\": \"\\u4e00\\u500b\\u9ed1\\u6697\\u800c\\u53ef\\u6015\\u7684\\u5730\\u65b9\\uff0c\\u602a\\u7269\\u5c31\\u4f4f\\u5728\\u90a3\\u88e1\\u3002\"\n",
            "        }\n",
            "    ],\n",
            "    \"things\": [\n",
            "        {\n",
            "            \"name\": \"\\u795e\\u5947\\u7684\\u80cc\\u5305\",\n",
            "            \"description\": \"\\u4e00\\u500b\\u67d4\\u8edf\\u7684\\u7fe0\\u7da0\\u8272\\u7e54\\u7269\\u80cc\\u5305\\uff0c\\u88e1\\u9762\\u88dd\\u6eff\\u4e86\\u795e\\u5947\\u7684\\u7269\\u54c1\\uff0c\\u53ef\\u4ee5\\u6fc0\\u767c\\u60f3\\u50cf\\u529b\\u3002\",\n",
            "            \"start_place_name\": \"\\u5b89\\u96c5\\u7c21\\u964b\\u7684\\u5c0f\\u5c4b\",\n",
            "            \"end_place_name\": \"\\u68ee\\u6797\"\n",
            "        },\n",
            "        {\n",
            "            \"name\": \"\\u9583\\u9583\\u767c\\u5149\\u7684\\u528d\",\n",
            "            \"description\": \"\\u80cc\\u5305\\u88e1\\u7528\\u4f86\\u6253\\u6557\\u602a\\u7269\\u7684\\u6b66\\u5668\\u3002\",\n",
            "            \"start_place_name\": \"\\u795e\\u5947\\u7684\\u80cc\\u5305\",\n",
            "            \"end_place_name\": \"\\u68ee\\u6797\"\n",
            "        },\n",
            "        {\n",
            "            \"name\": \"\\u53e4\\u8001\\u7684\\u5492\\u8a9e\\u66f8\",\n",
            "            \"description\": \"\\u80cc\\u5305\\u88e1\\u88dd\\u6eff\\u4e86\\u9b54\\u6cd5\\u548c\\u5492\\u8a9e\\u7684\\u66f8\\u3002\",\n",
            "            \"start_place_name\": \"\\u795e\\u5947\\u7684\\u80cc\\u5305\",\n",
            "            \"end_place_name\": \"\\u795e\\u5947\\u7684\\u80cc\\u5305\"\n",
            "        },\n",
            "        {\n",
            "            \"name\": \"\\u5c0f\\u6307\\u5357\\u91dd\",\n",
            "            \"description\": \"\\u80cc\\u5305\\u88e1\\u59cb\\u7d42\\u6307\\u5411\\u5317\\u65b9\\u7684\\u5c0f\\u6307\\u5357\\u91dd\\u3002\",\n",
            "            \"start_place_name\": \"\\u795e\\u5947\\u7684\\u80cc\\u5305\",\n",
            "            \"end_place_name\": \"\\u795e\\u5947\\u7684\\u80cc\\u5305\"\n",
            "        },\n",
            "        {\n",
            "            \"name\": \"\\u795e\\u5947\\u7684\\u9470\\u5319\",\n",
            "            \"description\": \"\\u80cc\\u5305\\u88e1\\u53ef\\u4ee5\\u6253\\u958b\\u4efb\\u4f55\\u9396\\u7684\\u9470\\u5319\\u3002\",\n",
            "            \"start_place_name\": \"\\u795e\\u5947\\u7684\\u80cc\\u5305\",\n",
            "            \"end_place_name\": \"\\u795e\\u5947\\u7684\\u80cc\\u5305\"\n",
            "        },\n",
            "        {\n",
            "            \"name\": \"\\u925b\\u7b46\",\n",
            "            \"description\": \"\\u5b89\\u96c5\\u80cc\\u5305\\u88e1\\u7684\\u5b78\\u7fd2\\u7528\\u54c1\\u3002\",\n",
            "            \"start_place_name\": \"\\u795e\\u5947\\u7684\\u80cc\\u5305\",\n",
            "            \"end_place_name\": \"\\u795e\\u5947\\u7684\\u80cc\\u5305\"\n",
            "        },\n",
            "        {\n",
            "            \"name\": \"\\u7b46\\u8a18\\u672c\",\n",
            "            \"description\": \"\\u5b89\\u96c5\\u80cc\\u5305\\u88e1\\u7684\\u5b78\\u7fd2\\u7528\\u54c1\\u3002\",\n",
            "            \"start_place_name\": \"\\u795e\\u5947\\u7684\\u80cc\\u5305\",\n",
            "            \"end_place_name\": \"\\u795e\\u5947\\u7684\\u80cc\\u5305\"\n",
            "        }\n",
            "    ],\n",
            "    \"relationships\": [\n",
            "        {\n",
            "            \"person_1_name\": \"\\u5b89\\u96c5\",\n",
            "            \"person_2_name\": \"\\u585e\\u7e46\\u723e\",\n",
            "            \"relationship\": \"\\u6700\\u597d\\u7684\\u670b\\u53cb\"\n",
            "        },\n",
            "        {\n",
            "            \"person_1_name\": \"\\u5b89\\u96c5\",\n",
            "            \"person_2_name\": \"\\u5b89\\u96c5\\u7684\\u7956\\u6bcd\",\n",
            "            \"relationship\": \"\\u5b6b\\u5973\"\n",
            "        },\n",
            "        {\n",
            "            \"person_1_name\": \"\\u5b89\\u96c5\",\n",
            "            \"person_2_name\": \"\\u5b89\\u96c5\\u7684\\u6bcd\\u89aa\",\n",
            "            \"relationship\": \"\\u5973\\u5152\"\n",
            "        },\n",
            "        {\n",
            "            \"person_1_name\": \"\\u5b89\\u96c5\",\n",
            "            \"person_2_name\": \"\\u5b89\\u96c5\\u7684\\u7236\\u89aa\",\n",
            "            \"relationship\": \"\\u5973\\u5152\"\n",
            "        }\n",
            "    ]\n",
            "}\n"
          ]
        }
      ]
    },
    {
      "cell_type": "markdown",
      "source": [
        "## 使用函式呼叫"
      ],
      "metadata": {
        "id": "RGgfYWkfP0dJ"
      }
    },
    {
      "cell_type": "markdown",
      "source": [
        "使用函式呼叫函式及相關參數時，即可向 API 說明 做為 genai.protos.FunctionDeclaration"
      ],
      "metadata": {
        "id": "r2Pq2hB8QYPO"
      }
    },
    {
      "cell_type": "markdown",
      "source": [
        "#### 定義結構定義\n",
        "將 person 定義為包含字串欄位 name、description、start_place_name、end_place_name 的物件。"
      ],
      "metadata": {
        "id": "UgZ5O0toP18d"
      }
    },
    {
      "cell_type": "code",
      "source": [
        "person = genai.protos.Schema(\n",
        "    type = genai.protos.Type.OBJECT,\n",
        "    properties = {\n",
        "        'name':  genai.protos.Schema(type=genai.protos.Type.STRING),\n",
        "        'description':  genai.protos.Schema(type=genai.protos.Type.STRING),\n",
        "        'start_place_name': genai.protos.Schema(type=genai.protos.Type.STRING),\n",
        "        'end_place_name': genai.protos.Schema(type=genai.protos.Type.STRING)\n",
        "    },\n",
        "    required=['name', 'description', 'start_place_name', 'end_place_name']\n",
        ")"
      ],
      "metadata": {
        "id": "9-2AcTTH9EPg"
      },
      "execution_count": 53,
      "outputs": []
    },
    {
      "cell_type": "markdown",
      "source": [
        "將使用者定義為 person 物件的 ARRAY："
      ],
      "metadata": {
        "id": "O4L5TZIeQEHv"
      }
    },
    {
      "cell_type": "code",
      "source": [
        "people = genai.protos.Schema(\n",
        "    type=genai.protos.Type.ARRAY,\n",
        "    items=person\n",
        ")"
      ],
      "metadata": {
        "id": "YmWRu5t29HMk"
      },
      "execution_count": 54,
      "outputs": []
    },
    {
      "cell_type": "markdown",
      "source": [
        "擷取的每個實體執行相同操作："
      ],
      "metadata": {
        "id": "nojj1O-5QE1l"
      }
    },
    {
      "cell_type": "code",
      "source": [
        "place = genai.protos.Schema(\n",
        "    type = genai.protos.Type.OBJECT,\n",
        "    properties = {\n",
        "        'name':  genai.protos.Schema(type=genai.protos.Type.STRING),\n",
        "        'description':  genai.protos.Schema(type=genai.protos.Type.STRING),\n",
        "    }\n",
        ")\n",
        "\n",
        "places = genai.protos.Schema(\n",
        "    type=genai.protos.Type.ARRAY,\n",
        "    items=place\n",
        ")"
      ],
      "metadata": {
        "id": "_8ai34TM9x2v"
      },
      "execution_count": 55,
      "outputs": []
    },
    {
      "cell_type": "code",
      "source": [
        "thing = genai.protos.Schema(\n",
        "  type = genai.protos.Type.OBJECT,\n",
        "  properties = {\n",
        "      'name':  genai.protos.Schema(type=genai.protos.Type.STRING),\n",
        "      'description':  genai.protos.Schema(type=genai.protos.Type.STRING),\n",
        "  }\n",
        ")\n",
        "\n",
        "things = genai.protos.Schema(\n",
        "    type=genai.protos.Type.ARRAY,\n",
        "    items=thing\n",
        ")"
      ],
      "metadata": {
        "id": "g7dZen6O9ynL"
      },
      "execution_count": 56,
      "outputs": []
    },
    {
      "cell_type": "code",
      "source": [
        "relationship = genai.protos.Schema(\n",
        "    type = genai.protos.Type.OBJECT,\n",
        "    properties = {\n",
        "        'person_1_name':  genai.protos.Schema(type=genai.protos.Type.STRING),\n",
        "        'person_2_name':  genai.protos.Schema(type=genai.protos.Type.STRING),\n",
        "        'relationship':  genai.protos.Schema(type=genai.protos.Type.STRING),\n",
        "    }\n",
        ")\n",
        "\n",
        "relationships = genai.protos.Schema(\n",
        "    type=genai.protos.Type.ARRAY,\n",
        "    items=relationship\n",
        ")"
      ],
      "metadata": {
        "id": "xuJIJ34p91nX"
      },
      "execution_count": 57,
      "outputs": []
    },
    {
      "cell_type": "code",
      "source": [
        "place = genai.protos.Schema(\n",
        "    type = genai.protos.Type.OBJECT,\n",
        "    properties = {\n",
        "        'name':  genai.protos.Schema(type=genai.protos.Type.STRING),\n",
        "        'description':  genai.protos.Schema(type=genai.protos.Type.STRING),\n",
        "    }\n",
        ")\n",
        "\n",
        "places = genai.protos.Schema(\n",
        "    type=genai.protos.Type.ARRAY,\n",
        "    items=place\n",
        ")"
      ],
      "metadata": {
        "id": "iLSV83gj9Kc5"
      },
      "execution_count": 58,
      "outputs": []
    },
    {
      "cell_type": "markdown",
      "source": [
        "建構 FunctionDeclaration："
      ],
      "metadata": {
        "id": "pLS-v7q-QLvw"
      }
    },
    {
      "cell_type": "code",
      "source": [
        "add_to_database = genai.protos.FunctionDeclaration(\n",
        "    name=\"add_to_database\",\n",
        "    description=textwrap.dedent(\"\"\"\\\n",
        "        將實體新增至資料庫。\n",
        "        \"\"\"),\n",
        "    parameters=genai.protos.Schema(\n",
        "        type=genai.protos.Type.OBJECT,\n",
        "        properties = {\n",
        "            'people': people,\n",
        "            'places': places,\n",
        "            'things': things,\n",
        "            'relationships': relationships\n",
        "        }\n",
        "    )\n",
        ")"
      ],
      "metadata": {
        "id": "al4fXZ119Nmd"
      },
      "execution_count": 59,
      "outputs": []
    },
    {
      "cell_type": "markdown",
      "source": [
        "呼叫 API"
      ],
      "metadata": {
        "id": "UmwSIRyjQgMG"
      }
    },
    {
      "cell_type": "code",
      "source": [
        "model = genai.GenerativeModel(\n",
        "    model_name='models/gemini-1.5-pro-latest',\n",
        "    tools = [add_to_database])"
      ],
      "metadata": {
        "id": "5yDSl9Cr9_dm"
      },
      "execution_count": 78,
      "outputs": []
    },
    {
      "cell_type": "markdown",
      "source": [
        "呼叫 API 時，SDK 會將工具與提示一併傳送，模型應呼叫您定義的函式："
      ],
      "metadata": {
        "id": "6evu0U5xQlEF"
      }
    },
    {
      "cell_type": "code",
      "source": [
        "result = model.generate_content(f\"\"\"\n",
        "Please add the people, places, things, and relationships from this story to the database:\n",
        "\n",
        "{story}\n",
        "\"\"\",\n",
        "# Force a function call\n",
        "tool_config={'function_calling_config':'ANY'})"
      ],
      "metadata": {
        "id": "fJcWon2F-CGT"
      },
      "execution_count": 79,
      "outputs": []
    },
    {
      "cell_type": "markdown",
      "source": [
        "沒有可剖析的文字"
      ],
      "metadata": {
        "id": "Hc7tKC2nRLmt"
      }
    },
    {
      "cell_type": "code",
      "source": [
        "'text' in result.candidates[0].content.parts[0]"
      ],
      "metadata": {
        "colab": {
          "base_uri": "https://localhost:8080/"
        },
        "id": "1x2Pwto6-GLx",
        "outputId": "f098ac5f-ad49-4253-a267-67b18d8e529e"
      },
      "execution_count": 64,
      "outputs": [
        {
          "output_type": "execute_result",
          "data": {
            "text/plain": [
              "False"
            ]
          },
          "metadata": {},
          "execution_count": 64
        }
      ]
    },
    {
      "cell_type": "markdown",
      "source": [
        "產生「是」資料結構"
      ],
      "metadata": {
        "id": "n1zs2JbiRPIO"
      }
    },
    {
      "cell_type": "code",
      "source": [
        "'function_call' in result.candidates[0].content.parts[0]"
      ],
      "metadata": {
        "colab": {
          "base_uri": "https://localhost:8080/"
        },
        "id": "Tiv3GnhW-JL8",
        "outputId": "f7d542ce-19b9-408d-8a6e-f6d7fedb9532"
      },
      "execution_count": 65,
      "outputs": [
        {
          "output_type": "execute_result",
          "data": {
            "text/plain": [
              "True"
            ]
          },
          "metadata": {},
          "execution_count": 65
        }
      ]
    },
    {
      "cell_type": "markdown",
      "source": [
        "genai.protos.FunctionCall 類別"
      ],
      "metadata": {
        "id": "3gfUVC8kRaFz"
      }
    },
    {
      "cell_type": "code",
      "source": [
        "fc = result.candidates[0].content.parts[0].function_call\n",
        "print(type(fc))"
      ],
      "metadata": {
        "colab": {
          "base_uri": "https://localhost:8080/"
        },
        "id": "nvVBV2gr-M0w",
        "outputId": "4fd9eabf-6d7f-44bf-83b3-05f6e8d0cf54"
      },
      "execution_count": 66,
      "outputs": [
        {
          "output_type": "stream",
          "name": "stdout",
          "text": [
            "<class 'google.ai.generativelanguage_v1beta.types.content.FunctionCall'>\n"
          ]
        }
      ]
    },
    {
      "cell_type": "markdown",
      "source": [
        "轉換為較熟悉的 JSON 相容物件："
      ],
      "metadata": {
        "id": "zUFUjVeHQ1AY"
      }
    },
    {
      "cell_type": "code",
      "source": [
        "print(json.dumps(type(fc).to_dict(fc), indent=4))"
      ],
      "metadata": {
        "colab": {
          "base_uri": "https://localhost:8080/"
        },
        "id": "HGYcfwQl-P7N",
        "outputId": "d8d4d004-7db8-42cd-ab94-6211d8a630c6"
      },
      "execution_count": 67,
      "outputs": [
        {
          "output_type": "stream",
          "name": "stdout",
          "text": [
            "{\n",
            "    \"name\": \"add_to_database\",\n",
            "    \"args\": {\n",
            "        \"people\": [\n",
            "            {\n",
            "                \"name\": \"Anya\",\n",
            "                \"end_place_name\": \"Willow Creek\",\n",
            "                \"description\": \"A young girl who is the story's protagonist. She is brave, curious, and kind. She uses her magic backpack to help her family and friends.\",\n",
            "                \"start_place_name\": \"Willow Creek\"\n",
            "            },\n",
            "            {\n",
            "                \"start_place_name\": \"Willow Creek\",\n",
            "                \"end_place_name\": \"Willow Creek\",\n",
            "                \"name\": \"Samuel\",\n",
            "                \"description\": \"A boy who is Anya's best friend. He is curious, adventurous, and has a mischievous smile.\"\n",
            "            },\n",
            "            {\n",
            "                \"name\": \"Anya's Mother\",\n",
            "                \"description\": \"Anya's mother. She is loving and supportive.\",\n",
            "                \"end_place_name\": \"Willow Creek\",\n",
            "                \"start_place_name\": \"Willow Creek\"\n",
            "            },\n",
            "            {\n",
            "                \"name\": \"Anya's Father\",\n",
            "                \"description\": \"Anya's father. He is wise and encouraging.\",\n",
            "                \"start_place_name\": \"Willow Creek\",\n",
            "                \"end_place_name\": \"Willow Creek\"\n",
            "            }\n",
            "        ],\n",
            "        \"places\": [\n",
            "            {\n",
            "                \"name\": \"Willow Creek\",\n",
            "                \"description\": \"A quaint town nestled amidst rolling hills and whispering willow trees.\"\n",
            "            },\n",
            "            {\n",
            "                \"description\": \"Anya's humble abode.\",\n",
            "                \"name\": \"Anya's Cottage\"\n",
            "            },\n",
            "            {\n",
            "                \"name\": \"Willow Creek Schoolhouse\",\n",
            "                \"description\": \"The only schoolhouse in Willow Creek.\"\n",
            "            },\n",
            "            {\n",
            "                \"description\": \"A dark and mysterious place where a monster resides.\",\n",
            "                \"name\": \"Forest\"\n",
            "            }\n",
            "        ],\n",
            "        \"things\": [\n",
            "            {\n",
            "                \"description\": \"A magical bag passed down to Anya from her grandmother. It contains wondrous items that can change her life.\",\n",
            "                \"name\": \"Magic Backpack\"\n",
            "            },\n",
            "            {\n",
            "                \"name\": \"Sword\",\n",
            "                \"description\": \"A sword that Anya uses to defeat the monster.\"\n",
            "            },\n",
            "            {\n",
            "                \"name\": \"Book of Spells\",\n",
            "                \"description\": \"An ancient book of spells that Anya keeps in her backpack.\"\n",
            "            },\n",
            "            {\n",
            "                \"description\": \"A small compass that always points north. Anya carries it in her backpack.\",\n",
            "                \"name\": \"Compass\"\n",
            "            },\n",
            "            {\n",
            "                \"name\": \"Magic Key\",\n",
            "                \"description\": \"A key that can open any lock. Anya keeps it in her backpack.\"\n",
            "            },\n",
            "            {\n",
            "                \"name\": \"Pencils\",\n",
            "                \"description\": \"Pencils that Anya carries in her backpack for school.\"\n",
            "            },\n",
            "            {\n",
            "                \"description\": \"Notebooks that Anya carries in her backpack for school.\",\n",
            "                \"name\": \"Notebooks\"\n",
            "            },\n",
            "            {\n",
            "                \"description\": \"A terrifying creature that lives in the forest and terrorizes the town.\",\n",
            "                \"name\": \"Monster\"\n",
            "            }\n",
            "        ],\n",
            "        \"relationships\": [\n",
            "            {\n",
            "                \"relationship\": \"best friends\",\n",
            "                \"person_2_name\": \"Samuel\",\n",
            "                \"person_1_name\": \"Anya\"\n",
            "            },\n",
            "            {\n",
            "                \"person_2_name\": \"Anya's Mother\",\n",
            "                \"person_1_name\": \"Anya\",\n",
            "                \"relationship\": \"daughter\"\n",
            "            },\n",
            "            {\n",
            "                \"person_1_name\": \"Anya\",\n",
            "                \"person_2_name\": \"Anya's Father\",\n",
            "                \"relationship\": \"daughter\"\n",
            "            }\n",
            "        ]\n",
            "    }\n",
            "}\n"
          ]
        }
      ]
    }
  ]
}