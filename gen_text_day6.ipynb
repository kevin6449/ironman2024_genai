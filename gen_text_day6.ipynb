{
  "nbformat": 4,
  "nbformat_minor": 0,
  "metadata": {
    "colab": {
      "provenance": [],
      "authorship_tag": "ABX9TyOymDzbJwEhtOgY17JmRXi3",
      "include_colab_link": true
    },
    "kernelspec": {
      "name": "python3",
      "display_name": "Python 3"
    },
    "language_info": {
      "name": "python"
    }
  },
  "cells": [
    {
      "cell_type": "markdown",
      "metadata": {
        "id": "view-in-github",
        "colab_type": "text"
      },
      "source": [
        "<a href=\"https://colab.research.google.com/github/kevin6449/ironman2024_genai/blob/main/gen_text_day6.ipynb\" target=\"_parent\"><img src=\"https://colab.research.google.com/assets/colab-badge.svg\" alt=\"Open In Colab\"/></a>"
      ]
    },
    {
      "cell_type": "code",
      "source": [
        "#pip install -q -U google-generativeai\n",
        "\n",
        "import google.generativeai as genai\n"
      ],
      "metadata": {
        "id": "yYvawc7XQz_u"
      },
      "execution_count": 3,
      "outputs": []
    },
    {
      "cell_type": "code",
      "source": [
        "from google.colab import userdata\n",
        "\n",
        "API_KEY=userdata.get('GOOGLE_API_KEY')"
      ],
      "metadata": {
        "id": "fVJEv92iRPcO"
      },
      "execution_count": 4,
      "outputs": []
    },
    {
      "cell_type": "code",
      "source": [
        "#genai.configure(api_key=\"YOUR_API_KEY\")\n",
        "\n",
        "# Configure the client library by providing your API key.\n",
        "genai.configure(api_key=API_KEY)"
      ],
      "metadata": {
        "id": "kahnIAezRW9d"
      },
      "execution_count": 5,
      "outputs": []
    },
    {
      "cell_type": "code",
      "source": [
        "# Set up the model\n",
        "generation_config = {\n",
        "  \"temperature\": 0.9,\n",
        "  \"top_p\": 1,\n",
        "  \"top_k\": 1,\n",
        "  \"max_output_tokens\": 2048,\n",
        "}"
      ],
      "metadata": {
        "id": "WSV473HeRcEB"
      },
      "execution_count": 6,
      "outputs": []
    },
    {
      "cell_type": "code",
      "source": [
        "safety_settings = [\n",
        "  {\n",
        "    \"category\": \"HARM_CATEGORY_HARASSMENT\",\n",
        "    \"threshold\": \"BLOCK_MEDIUM_AND_ABOVE\"\n",
        "  },\n",
        "  {\n",
        "    \"category\": \"HARM_CATEGORY_HATE_SPEECH\",\n",
        "    \"threshold\": \"BLOCK_MEDIUM_AND_ABOVE\"\n",
        "  },\n",
        "  {\n",
        "    \"category\": \"HARM_CATEGORY_SEXUALLY_EXPLICIT\",\n",
        "    \"threshold\": \"BLOCK_MEDIUM_AND_ABOVE\"\n",
        "  },\n",
        "  {\n",
        "    \"category\": \"HARM_CATEGORY_DANGEROUS_CONTENT\",\n",
        "    \"threshold\": \"BLOCK_MEDIUM_AND_ABOVE\"\n",
        "  },\n",
        "]"
      ],
      "metadata": {
        "id": "A-LjAurVRhXF"
      },
      "execution_count": 7,
      "outputs": []
    },
    {
      "cell_type": "markdown",
      "source": [
        "從純文字輸入來生成文字\n",
        "最簡單的方式就是提供模型，以便使用 Gemini API 生成文字 和單一文字輸入，如以下範例所示：\n"
      ],
      "metadata": {
        "id": "bZz_XReqQVrI"
      }
    },
    {
      "cell_type": "code",
      "execution_count": 9,
      "metadata": {
        "colab": {
          "base_uri": "https://localhost:8080/",
          "height": 323
        },
        "id": "kqLyzLuSP50h",
        "outputId": "dcc7c029-4cb6-42d7-84ed-f09df5df6770"
      },
      "outputs": [
        {
          "output_type": "stream",
          "name": "stdout",
          "text": [
            "清晨的陽光透過窗簾縫隙灑進房間，照亮了桌上堆滿的筆記本。林小可伸了一個懶腰，打著哈欠，拿起咖啡，準備開始她每天的「鐵人賽」挑戰。\n",
            "\n",
            "小可是一位熱愛技術的年輕工程師，她夢想著能將自己的技術知識分享給更多人。今年，她決定挑戰「鐵人賽」—每天撰寫一篇技術文章，連續30天。起初，她滿腔熱情，充滿了自信。她精心策劃了主題，準備了資料，甚至還設計了精美的版面。\n",
            "\n",
            "第一天，小可輕鬆地完成了文章，並分享到社群平台。她收到了一些朋友的讚美和鼓勵，讓她更加堅定。然而，隨著時間推移，挑戰的難度逐漸提升。工作繁忙，加班加點成了家常便飯，休息時間也被壓縮。小可開始感到疲憊，腦袋裡一片空白，寫作的熱情也逐漸消退。\n",
            "\n",
            "第二周，她開始出現焦慮。看著空白的頁面，她感到無力。夜晚，她翻來覆去睡不著，腦海中不斷回放著朋友們期待的眼神和自己的承諾。\n",
            "\n",
            "第三周，她決定調整策略。她將文章的篇幅縮短，將複雜的技術概念拆解成簡單易懂的步驟，並加入更多圖表和案例。她還積極與其他參賽者交流，互相鼓勵，分享經驗。\n",
            "\n",
            "第四周，她終於迎來了「鐵人賽」的最後一天。她帶著疲憊但滿足的心情完成了最後一篇技術文章。她回顧這一個月的旅程，感慨萬千。她克服了懶惰、焦慮和時間的限制，最終完成了自己的目標。\n",
            "\n",
            "「鐵人賽」不僅鍛鍊了她的技術寫作能力，也讓她收穫了友誼，更重要的是，她堅定了自己的夢想，要成為一位優秀的技術分享者。\n",
            "\n",
            "小可的故事告訴我們，挑戰自己，堅持夢想，並非易事，但只要我們勇敢面對，並不斷努力，終將會收穫屬於自己的成功。\n",
            "\n"
          ]
        }
      ],
      "source": [
        "model = genai.GenerativeModel(\"gemini-1.5-flash\")\n",
        "response = model.generate_content(\"寫一個故事，描述參加鐵人賽連續安技術文章30天\")\n",
        "print(response.text)"
      ]
    },
    {
      "cell_type": "markdown",
      "source": [
        "依據文字和圖片輸入內容生成文字\n",
        "Gemini API 支援結合文字與媒體檔案的多模態輸入功能。\n",
        "以下範例說明如何透過輸入文字和圖片來生成文字："
      ],
      "metadata": {
        "id": "S4IwvMF5ThDg"
      }
    },
    {
      "cell_type": "code",
      "source": [
        "from google.colab import drive\n",
        "drive.mount('/content/drive')"
      ],
      "metadata": {
        "colab": {
          "base_uri": "https://localhost:8080/"
        },
        "id": "b-rwOiWQVMUp",
        "outputId": "7f63186c-b2c2-4ae1-e364-297a5c3ea663"
      },
      "execution_count": 26,
      "outputs": [
        {
          "output_type": "stream",
          "name": "stdout",
          "text": [
            "Drive already mounted at /content/drive; to attempt to forcibly remount, call drive.mount(\"/content/drive\", force_remount=True).\n"
          ]
        }
      ]
    },
    {
      "cell_type": "code",
      "source": [
        "from keras.preprocessing import image\n",
        "import urllib.request\n",
        "import PIL.Image\n",
        "from pathlib import Path\n",
        "\n",
        "# from PIL import Image\n",
        "image_url = \"https://www.kpopmonster.jp/wp-content/uploads/2022/11/twice01-2.jpg.webp\"\n",
        "\n",
        "# Download the image using urllib\n",
        "urllib.request.urlretrieve(image_url, \"girls.png\")\n",
        "# Open the downloaded image in PIL\n",
        "#my_img = Image.open(\"girls.png\")\n",
        "# Show the image\n",
        "#my_img\n",
        "\n",
        "image_parts = [\n",
        "  {\n",
        "    \"mime_type\": \"image/png\",\n",
        "    \"data\": Path(\"girls.png\").read_bytes()\n",
        "  },\n",
        "]\n",
        "\n",
        "prompt_parts = [\n",
        "  \"請用中文回答，如果給你一張圖，請你辨識出上面的人名嗎\\n\",\n",
        "  image_parts[0],\n",
        "  \"\\n\",\n",
        "]\n",
        "\n",
        "model = genai.GenerativeModel(\"gemini-1.5-flash\")\n",
        "#organ = Path(\"girls.png\").read_bytes() #PIL.Image.open(media / \"girls.png\")\n",
        "response = model.generate_content(prompt_parts)\n",
        "print(response.text)"
      ],
      "metadata": {
        "colab": {
          "base_uri": "https://localhost:8080/",
          "height": 53
        },
        "id": "TgpIWNYiTgy2",
        "outputId": "3cafc57d-6ad3-44f9-88f9-00a2857abaed"
      },
      "execution_count": 27,
      "outputs": [
        {
          "output_type": "stream",
          "name": "stdout",
          "text": [
            "很抱歉，我無法辨識圖像中的人名。我是一個大型語言模型，沒有能力識別圖像中的物體或人名。 \n",
            "\n"
          ]
        }
      ]
    },
    {
      "cell_type": "code",
      "source": [
        "model = genai.GenerativeModel(\"gemini-1.5-flash\")\n",
        "response = model.generate_content(\"寫一個故事，描述參加鐵人賽連續安技術文章30天\", stream=True)\n",
        "for chunk in response:\n",
        "    print(chunk.text)\n",
        "    print(\"_\" * 80)\n"
      ],
      "metadata": {
        "colab": {
          "base_uri": "https://localhost:8080/",
          "height": 839
        },
        "id": "XYUhy5biZfGF",
        "outputId": "856d482e-2082-443d-dff1-b5fc2e3954f6"
      },
      "execution_count": 28,
      "outputs": [
        {
          "output_type": "stream",
          "name": "stdout",
          "text": [
            "##\n",
            "________________________________________________________________________________\n",
            " 鐵人30：我的技術文章煉獄\n",
            "\n",
            "在一個充滿程式碼的\n",
            "________________________________________________________________________________\n",
            "宇宙中，有一個凡人名叫阿倫，他決心挑戰自己，\n",
            "________________________________________________________________________________\n",
            "參加了傳說中的「鐵人賽」。這是一個為期30天的技術文章寫作挑戰，每天一篇，絕不間斷。阿倫，一個\n",
            "________________________________________________________________________________\n",
            "在技術領域默默耕耘的工程師，決定挑戰自己，將所學所思化作文字，分享給世人。\n",
            "\n",
            "第一天，阿倫\n",
            "________________________________________________________________________________\n",
            "充滿了熱情。他選擇了「Python 爬蟲入門」作為主題，並信心滿滿地寫下第一篇文章。他描繪了如何使用 Python 抓取網頁資料，並附上了簡單易懂的範例\n",
            "________________________________________________________________________________\n",
            "程式碼。文章發布後，他收到了許多讚賞和回應，這讓他更加充滿動力。\n",
            "\n",
            "然而，隨著挑戰一天一天過去，阿倫開始感受到壓力。他每天都必須面對新的主題，並在\n",
            "________________________________________________________________________________\n",
            "有限的時間內完成文章。他犧牲了睡眠，放棄了休閒娛樂，甚至連家人都忽略了。他陷入了無盡的寫作循環中，不斷地搜尋、學習、寫作、修改，直到深夜。\n",
            "\n",
            "到了第二週，阿倫開始感到疲憊。他開始\n",
            "________________________________________________________________________________\n",
            "質疑自己，懷疑自己是否真的能堅持下去。他面對著資料庫設計、雲端運算、AI 應用等各種難題，他的腦袋像是要爆炸了。他感到迷茫，他開始懷疑自己的能力，他開始想放棄。\n",
            "\n",
            "然而，他想起自己\n",
            "________________________________________________________________________________\n",
            "最初的目標，他想起那些鼓勵他的留言，他想起他渴望分享知識的熱情。他深吸一口氣，重新振作起來。他開始調整自己的寫作策略，他學習如何簡化複雜的技術概念，他開始使用更直觀的圖表和範例\n",
            "________________________________________________________________________________\n",
            "來呈現他的想法。\n",
            "\n",
            "隨著挑戰的進行，阿倫的寫作技巧逐漸提升。他開始享受寫作的過程，他開始感受到知識的魅力。他發現，每篇文章都是一個新的學習機會，每篇文章都是一個新的思考方向。\n",
            "\n",
            "最後，阿倫完成了 30 天\n",
            "________________________________________________________________________________\n",
            "的挑戰。他感到疲憊，但也感到無比的成就感。他完成了這趟技術文章的煉獄之旅，他成長了，他蛻變了。\n",
            "\n",
            "他回顧這 30 天的旅程，他發現自己不僅僅是寫作了 30 篇文章，他\n",
            "________________________________________________________________________________\n",
            "還學習了 30 種新的技術知識，他還獲得了 30 個新的朋友。他感謝這個挑戰，它讓他更加堅強，更加自信，更加熱愛技術。\n",
            "\n",
            "鐵人賽結束了，但阿倫的技術分享之旅才剛開始。他將繼續寫作\n",
            "________________________________________________________________________________\n",
            "，繼續學習，繼續分享，他將成為一個技術知識的傳播者，一個技術世界的築夢者。\n",
            "________________________________________________________________________________\n"
          ]
        }
      ]
    },
    {
      "cell_type": "code",
      "source": [
        "model = genai.GenerativeModel(\"gemini-1.5-flash\")\n",
        "chat = model.start_chat(\n",
        "    history=[\n",
        "        {\"role\": \"user\", \"parts\": \"你好\"},\n",
        "        {\"role\": \"model\", \"parts\": \"很高興認識你。您想知道什麼？\"},\n",
        "    ]\n",
        ")\n",
        "response = chat.send_message(\"我家裡有 4 隻貓。\")\n",
        "print(response.text)\n",
        "response = chat.send_message(\"我家裡有幾隻爪子？\")\n",
        "print(response.text)\n"
      ],
      "metadata": {
        "colab": {
          "base_uri": "https://localhost:8080/",
          "height": 124
        },
        "id": "rwDtNoOTZjNG",
        "outputId": "54272388-049d-4da4-b0aa-2d459a34ac52"
      },
      "execution_count": 29,
      "outputs": [
        {
          "output_type": "stream",
          "name": "stdout",
          "text": [
            "哇！四隻貓！那一定很熱鬧！你喜歡養貓嗎？它們的名字是什麼？你最喜歡哪一隻？ \n",
            "\n",
            "哈哈，這真是個有趣的問題！如果你家有四隻貓，每隻貓有四隻腳，總共有 16 只爪子。 \n",
            "\n",
            "但實際上，如果你算上尾巴和耳朵上的爪子，那可就更多了！ \n",
            "\n"
          ]
        }
      ]
    },
    {
      "cell_type": "code",
      "source": [
        "model = genai.GenerativeModel(\"gemini-1.5-flash\")\n",
        "response = model.generate_content(\n",
        "    \"跟我講一個故事，是有關鐵人賽30天\",\n",
        "    generation_config=genai.types.GenerationConfig(\n",
        "        # Only one candidate for now.\n",
        "        candidate_count=1,\n",
        "        stop_sequences=[\"x\"],\n",
        "        max_output_tokens=100,\n",
        "        temperature=1.0,\n",
        "    ),\n",
        ")\n",
        "\n",
        "print(response.text)"
      ],
      "metadata": {
        "colab": {
          "base_uri": "https://localhost:8080/",
          "height": 71
        },
        "id": "Dl_0wBBJZrkh",
        "outputId": "c16900a7-33b8-4604-aea9-137ff2d1123b"
      },
      "execution_count": 32,
      "outputs": [
        {
          "output_type": "stream",
          "name": "stdout",
          "text": [
            "在一個繁華的都市，住著一位名叫艾倫的平凡上班族。他每天過著規律的生活，上班、下班、回家，偶爾看場電影，週末睡個懶覺。他渴望改變，渴望突破舒適圈，但卻缺乏勇氣。\n",
            "\n",
            "直到他看到鐵人賽的宣傳，30 天挑戰，完成每天不同的目標，從健身到創作、學習新技能，甚至挑戰自我。他猶豫了，挑戰自己\n"
          ]
        }
      ]
    },
    {
      "cell_type": "code",
      "source": [
        "response = model.generate_content(\n",
        "    '寫一個故事，描述參加鐵人賽連續安技術文章30天',\n",
        "    generation_config = genai.GenerationConfig(\n",
        "        max_output_tokens=1000,\n",
        "        temperature=0.1,\n",
        "    )\n",
        ")"
      ],
      "metadata": {
        "id": "V3Kcm58PZxXq"
      },
      "execution_count": 31,
      "outputs": []
    }
  ]
}