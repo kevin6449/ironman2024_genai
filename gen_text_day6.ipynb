{
  "nbformat": 4,
  "nbformat_minor": 0,
  "metadata": {
    "colab": {
      "provenance": [],
      "authorship_tag": "ABX9TyOR4wKGud9mrmzuP7Y0NZ7G",
      "include_colab_link": true
    },
    "kernelspec": {
      "name": "python3",
      "display_name": "Python 3"
    },
    "language_info": {
      "name": "python"
    }
  },
  "cells": [
    {
      "cell_type": "markdown",
      "metadata": {
        "id": "view-in-github",
        "colab_type": "text"
      },
      "source": [
        "<a href=\"https://colab.research.google.com/github/kevin6449/ironman2024_genai/blob/main/gen_text_day6.ipynb\" target=\"_parent\"><img src=\"https://colab.research.google.com/assets/colab-badge.svg\" alt=\"Open In Colab\"/></a>"
      ]
    },
    {
      "cell_type": "code",
      "source": [
        "#pip install -q -U google-generativeai\n",
        "\n",
        "import google.generativeai as genai\n"
      ],
      "metadata": {
        "id": "yYvawc7XQz_u"
      },
      "execution_count": 1,
      "outputs": []
    },
    {
      "cell_type": "code",
      "source": [
        "from google.colab import userdata\n",
        "\n",
        "API_KEY=userdata.get('GOOGLE_API_KEY')"
      ],
      "metadata": {
        "id": "fVJEv92iRPcO"
      },
      "execution_count": 2,
      "outputs": []
    },
    {
      "cell_type": "code",
      "source": [
        "#genai.configure(api_key=\"YOUR_API_KEY\")\n",
        "\n",
        "# Configure the client library by providing your API key.\n",
        "genai.configure(api_key=API_KEY)"
      ],
      "metadata": {
        "id": "kahnIAezRW9d"
      },
      "execution_count": 3,
      "outputs": []
    },
    {
      "cell_type": "code",
      "source": [
        "# Set up the model\n",
        "generation_config = {\n",
        "  \"temperature\": 0.9,\n",
        "  \"top_p\": 1,\n",
        "  \"top_k\": 1,\n",
        "  \"max_output_tokens\": 2048,\n",
        "}"
      ],
      "metadata": {
        "id": "WSV473HeRcEB"
      },
      "execution_count": 4,
      "outputs": []
    },
    {
      "cell_type": "code",
      "source": [
        "safety_settings = [\n",
        "  {\n",
        "    \"category\": \"HARM_CATEGORY_HARASSMENT\",\n",
        "    \"threshold\": \"BLOCK_MEDIUM_AND_ABOVE\"\n",
        "  },\n",
        "  {\n",
        "    \"category\": \"HARM_CATEGORY_HATE_SPEECH\",\n",
        "    \"threshold\": \"BLOCK_MEDIUM_AND_ABOVE\"\n",
        "  },\n",
        "  {\n",
        "    \"category\": \"HARM_CATEGORY_SEXUALLY_EXPLICIT\",\n",
        "    \"threshold\": \"BLOCK_MEDIUM_AND_ABOVE\"\n",
        "  },\n",
        "  {\n",
        "    \"category\": \"HARM_CATEGORY_DANGEROUS_CONTENT\",\n",
        "    \"threshold\": \"BLOCK_MEDIUM_AND_ABOVE\"\n",
        "  },\n",
        "]"
      ],
      "metadata": {
        "id": "A-LjAurVRhXF"
      },
      "execution_count": 5,
      "outputs": []
    },
    {
      "cell_type": "markdown",
      "source": [
        "# 從純文字輸入來生成文字\n",
        "最簡單的方式就是提供模型，以便使用 Gemini API 生成文字 和單一文字輸入，如以下範例所示：\n"
      ],
      "metadata": {
        "id": "bZz_XReqQVrI"
      }
    },
    {
      "cell_type": "code",
      "execution_count": 6,
      "metadata": {
        "colab": {
          "base_uri": "https://localhost:8080/",
          "height": 338
        },
        "id": "kqLyzLuSP50h",
        "outputId": "edac3508-6e12-40af-9117-fab8ec0d0b5d"
      },
      "outputs": [
        {
          "output_type": "stream",
          "name": "stdout",
          "text": [
            "在科技的浩瀚海洋中，有著一艘名叫「鐵人賽」的船隻，它承載著無數熱血的航海家，在知識的浪濤中奮勇前進。我，一個自詡為碼農的船員，也加入了這趟充滿挑戰的旅程。\n",
            "\n",
            "我的目標是連續30天，每天發表一篇技術文章，就像一顆顆閃耀的星光，照亮夜空中的航道。起初，我雄心壯志，信心滿滿，仿佛能一蹴而就。然而，當第一天、第二天過去，寫作的激情逐漸褪去，我開始面臨巨大的壓力。\n",
            "\n",
            "白天，我埋頭於代碼海洋，與程式碼搏鬥，夜晚，我還要在腦海中搜尋著靈感，試圖將複雜的技術概念轉化為清晰易懂的文字。時間仿佛在流逝，卻也帶走了我的耐心和精力。\n",
            "\n",
            "我開始質疑自己，我真的能堅持下去嗎？我寫的文章真的有人看嗎？我是不是太過天真？\n",
            "\n",
            "然而，當我看到自己分享的文章獲得了讀者的關注，當我看到有人留言討論，當我看到有人因為我的文章而有所收穫，一股暖流涌上心頭，驱散了我的迷茫。\n",
            "\n",
            "我開始明白，這場鐵人賽，不僅是對技術能力的考驗，更是對自己意志力的磨練。我開始享受寫作的過程，將每一次的思考和整理，都當作一次自我提升的機會。\n",
            "\n",
            "30天，我寫下了30篇文章，每篇文章都記錄著我的成長和蛻變。我學會了如何更清晰地表達技術概念，如何更有效地傳遞知識，如何更自信地分享自己的經驗。\n",
            "\n",
            "當我最終完成這場挑戰時，我仿佛站在一座高峰，俯瞰著自己走過的旅程。我明白，這場鐵人賽，不僅僅是一場比賽，更是一段成長的旅程。它讓我更加了解自己，更加堅定了自己的目標。\n",
            "\n",
            "在未来的征途中，我会继续将知识分享，将经验传递，成为一名真正的航海家，在科技的海洋中，留下自己的印记。\n",
            "\n"
          ]
        }
      ],
      "source": [
        "model = genai.GenerativeModel(\"gemini-1.5-flash\")\n",
        "response = model.generate_content(\"寫一個故事，描述參加鐵人賽連續寫技術文章30天\")\n",
        "print(response.text)"
      ]
    },
    {
      "cell_type": "markdown",
      "source": [
        "#依據文字和圖片輸入內容生成文字\n",
        "Gemini API 支援結合文字與媒體檔案的多模態輸入功能。\n",
        "以下範例說明如何透過輸入文字和圖片來生成文字："
      ],
      "metadata": {
        "id": "S4IwvMF5ThDg"
      }
    },
    {
      "cell_type": "code",
      "source": [
        "from google.colab import drive\n",
        "drive.mount('/content/drive')"
      ],
      "metadata": {
        "colab": {
          "base_uri": "https://localhost:8080/"
        },
        "id": "b-rwOiWQVMUp",
        "outputId": "76312d37-9bad-4004-a051-7a8223f6787c"
      },
      "execution_count": 7,
      "outputs": [
        {
          "output_type": "stream",
          "name": "stdout",
          "text": [
            "Mounted at /content/drive\n"
          ]
        }
      ]
    },
    {
      "cell_type": "code",
      "source": [
        "from keras.preprocessing import image\n",
        "import urllib.request\n",
        "import PIL.Image\n",
        "from pathlib import Path\n",
        "\n",
        "# from PIL import Image\n",
        "image_url = \"https://www.kpopmonster.jp/wp-content/uploads/2022/11/twice01-2.jpg.webp\"\n",
        "\n",
        "# Download the image using urllib\n",
        "urllib.request.urlretrieve(image_url, \"girls.png\")\n",
        "\n",
        "image_parts = [\n",
        "  {\n",
        "    \"mime_type\": \"image/png\",\n",
        "    \"data\": Path(\"girls.png\").read_bytes()\n",
        "  },\n",
        "]\n",
        "\n",
        "prompt_parts = [\n",
        "  \"請用中文回答，如果給你一張圖，請你辨識出上面的人名嗎\\n\",\n",
        "  image_parts[0],\n",
        "  \"\\n\",\n",
        "]\n",
        "\n"
      ],
      "metadata": {
        "id": "TgpIWNYiTgy2"
      },
      "execution_count": 8,
      "outputs": []
    },
    {
      "cell_type": "code",
      "source": [
        "model = genai.GenerativeModel(\"gemini-1.5-flash\")\n",
        "#organ = Path(\"girls.png\").read_bytes() #PIL.Image.open(media / \"girls.png\")\n",
        "response = model.generate_content(prompt_parts)\n",
        "print(response.text)"
      ],
      "metadata": {
        "colab": {
          "base_uri": "https://localhost:8080/",
          "height": 53
        },
        "id": "Ji3YppSiusqc",
        "outputId": "880275a1-8099-46b6-b1d3-d696631b9c2a"
      },
      "execution_count": 9,
      "outputs": [
        {
          "output_type": "stream",
          "name": "stdout",
          "text": [
            "很抱歉，我無法辨識圖片中的人名。我是一個語言模型，沒有能力分析圖片。 \n",
            "\n"
          ]
        }
      ]
    },
    {
      "cell_type": "markdown",
      "source": [
        "#產生文字串流\n",
        "根據預設，模型會在完成整段文字後傳回回應 產生程序與其等待 全部結果，並改用串流處理部分結果。\n",
        "\n",
        "以下範例顯示如何使用 streamGenerateContent 方法， 透過純文字輸入提示來生成文字"
      ],
      "metadata": {
        "id": "GxRuN4dhu-GW"
      }
    },
    {
      "cell_type": "code",
      "source": [
        "model = genai.GenerativeModel(\"gemini-1.5-flash\")\n",
        "response = model.generate_content(\"寫一個故事，描述參加鐵人賽連續寫技術文章30天\", stream=True)\n",
        "for chunk in response:\n",
        "    print(chunk.text)\n",
        "    print(\"_\" * 80)\n"
      ],
      "metadata": {
        "colab": {
          "base_uri": "https://localhost:8080/",
          "height": 714
        },
        "id": "XYUhy5biZfGF",
        "outputId": "cf7b9f61-0908-4f71-b6d9-0d874af30aa0"
      },
      "execution_count": 10,
      "outputs": [
        {
          "output_type": "stream",
          "name": "stdout",
          "text": [
            "在\n",
            "________________________________________________________________________________\n",
            "科技浪潮翻滾的年代，一位名叫小李的工程師決心挑戰自己\n",
            "________________________________________________________________________________\n",
            "，參加了一場特殊的鐵人賽：連續三十天，每天撰寫一篇\n",
            "________________________________________________________________________________\n",
            "技術文章。\n",
            "\n",
            "起初，小李雄心壯志，每天都卯足了勁，挑選熱門技術，深入研究，並將\n",
            "________________________________________________________________________________\n",
            "心得寫成一篇篇詳盡的文章。他分享了最新的程式庫應用、雲端運算的優勢、以及 AI 技術的未來展望。\n",
            "________________________________________________________________________________\n",
            "讀者們紛紛留言讚賞，小李的信心也與日俱增。\n",
            "\n",
            "然而，隨著時間推移，小李開始感到力不從心。每天都要尋找新的主題，構思文章架構，並\n",
            "________________________________________________________________________________\n",
            "潤飾文筆，令他疲憊不堪。夜晚，他總是伴隨著鍵盤敲擊聲入眠，腦中不斷盤旋著明日文章的選題。\n",
            "\n",
            "眼看賽程過半，小李的\n",
            "________________________________________________________________________________\n",
            "熱情逐漸消退。他開始敷衍了事，寫一些平淡無奇的文章，甚至有幾篇是重複舊素材。讀者們也察覺到了變化，留言量逐漸減少，小李的心也變得沉重。\n",
            "\n",
            "就在小李快要放棄的時候，他收到了一封\n",
            "________________________________________________________________________________\n",
            "私訊，是一位讀者寫的。這位讀者表示，他是一位初學者，小李的文章幫助他解決了許多技術上的困惑，也激勵了他學習的熱情。\n",
            "\n",
            "讀者的這番話，如同一道光照亮了小李的内心。他頓時明白，\n",
            "________________________________________________________________________________\n",
            "技術文章的意義不僅僅在於分享知識，更在於幫助他人成長。小李重新振作起來，開始認真思考文章內容，並努力用通俗易懂的語言，將複雜的技術概念傳達給讀者。\n",
            "\n",
            "最後，小李成功完成了挑戰，他完成了\n",
            "________________________________________________________________________________\n",
            "三十篇技術文章，並獲得了來自讀者的肯定與鼓勵。這次鐵人賽，讓小李不僅增強了技術實力，更讓他體會到分享知識的力量與意義。\n",
            "\n",
            "故事的尾聲，小李並沒有停下腳步，他依然持續撰寫技術文章，並\n",
            "________________________________________________________________________________\n",
            "積極參與各種線上社群，與其他工程師交流經驗。他知道，技術的世界永無止境，唯有不斷學習、分享，才能共同創造更美好的未來。\n",
            "\n",
            "________________________________________________________________________________\n"
          ]
        }
      ]
    },
    {
      "cell_type": "markdown",
      "source": [
        "#建立互動式聊天\n",
        "您可以使用 Gemini API 為使用者打造互動式對話體驗。 使用 API 的即時通訊功能可讓您收集各回合的問題 方便使用者逐步尋求答案或取得協助 多部分問題此功能非常適合需要 持續溝通，例如聊天機器人、互動式家教或客戶服務 像聊天助理一樣 以自然語言回答具體的開發或雲端相關問題\n",
        "\n",
        "以下程式碼範例顯示基本的即時通訊實作方式："
      ],
      "metadata": {
        "id": "udfROwTsvGZQ"
      }
    },
    {
      "cell_type": "code",
      "source": [
        "model = genai.GenerativeModel(\"gemini-1.5-flash\")\n",
        "chat = model.start_chat(\n",
        "    history=[\n",
        "        {\"role\": \"user\", \"parts\": \"你好\"},\n",
        "        {\"role\": \"model\", \"parts\": \"很高興認識你。您想知道什麼？\"},\n",
        "    ]\n",
        ")\n",
        "response = chat.send_message(\"我家裡有 4 隻貓。\")\n",
        "print(response.text)\n",
        "response = chat.send_message(\"我家裡有幾隻爪子？\")\n",
        "print(response.text)\n"
      ],
      "metadata": {
        "colab": {
          "base_uri": "https://localhost:8080/",
          "height": 88
        },
        "id": "rwDtNoOTZjNG",
        "outputId": "39e76a93-e2a7-40d1-ebf6-c1164d14fc6d"
      },
      "execution_count": 11,
      "outputs": [
        {
          "output_type": "stream",
          "name": "stdout",
          "text": [
            "哇！四隻貓真是太棒了！能告訴我更多關於它們的事情嗎？它們是什麼品種？他們的個性如何？你最喜歡它們的什麼地方？ \n",
            "\n",
            "哈哈，這是一個有趣的問題！如果你有四隻貓，每隻貓有四隻腳，總共就有 16 個爪子！ \n",
            "\n"
          ]
        }
      ]
    },
    {
      "cell_type": "markdown",
      "source": [
        "設定文字產生功能\n",
        "您傳送至模型的每個提示都包括 參數 控管模型產生回應的方式別擔心！您可以使用 GenerationConfig 到 設定這些參數如未設定參數，模型就會 使用預設選項，該選項可能因模型而異\n",
        "\n",
        "以下範例說明如何設定多個可用選項。"
      ],
      "metadata": {
        "id": "Toz76uN8vO7m"
      }
    },
    {
      "cell_type": "code",
      "source": [
        "model = genai.GenerativeModel(\"gemini-1.5-flash\")\n",
        "response = model.generate_content(\n",
        "    \"跟我講一個故事，是有關鐵人賽30天\",\n",
        "    generation_config=genai.types.GenerationConfig(\n",
        "        # Only one candidate for now.\n",
        "        candidate_count=1,\n",
        "        stop_sequences=[\"x\"],\n",
        "        max_output_tokens=100,\n",
        "        temperature=1.0,\n",
        "    ),\n",
        ")\n",
        "\n",
        "print(response.text)"
      ],
      "metadata": {
        "colab": {
          "base_uri": "https://localhost:8080/",
          "height": 71
        },
        "id": "Dl_0wBBJZrkh",
        "outputId": "58593628-216d-4974-f1d5-4d36f2112f56"
      },
      "execution_count": 12,
      "outputs": [
        {
          "output_type": "stream",
          "name": "stdout",
          "text": [
            "在一個充滿活力與熱情的小鎮，住著一位名為艾蜜莉的年輕女性。她熱愛運動，卻缺乏毅力，總是半途而廢。某天，她偶然看到鐵人三項賽的宣傳，心中燃起一股熊熊烈火，決心挑戰自己。\n",
            "\n",
            "艾蜜莉報名了30天後的鐵人賽，從未接觸過三項運動的她，一開始便感到茫然。她開始了\n"
          ]
        }
      ]
    },
    {
      "cell_type": "markdown",
      "source": [
        "candidateCount 會指定要傳回的回應數。 這個值目前只能設為 1。如未設定，這個項目會預設為 1。\n",
        "\n",
        "stopSequences 會指定一組字元序列 (最多 5 個) 將 停止產生輸出內容如果有指定，API 會在首次出現時停止 stop_sequence 內。停止序列不會納入 回應。\n",
        "\n",
        "maxOutputTokens 會設定要加入候選符記的數量上限。\n",
        "\n",
        "temperature 控管輸出內容的隨機程度。輸入較高的值即可瀏覽更多內容 和較低的值，以獲得更有確定性的回應。值 可以介於 [0.0, 2.0] 之間\n",
        "\n",
        "您也可以設定對 generateContent 的個別呼叫："
      ],
      "metadata": {
        "id": "6Uhz17F4vZj1"
      }
    },
    {
      "cell_type": "code",
      "source": [
        "response = model.generate_content(\n",
        "    '寫一個故事，描述參加鐵人賽連續寫技術文章30天',\n",
        "    generation_config = genai.GenerationConfig(\n",
        "        max_output_tokens=1000,\n",
        "        temperature=0.1,\n",
        "    )\n",
        ")"
      ],
      "metadata": {
        "id": "V3Kcm58PZxXq"
      },
      "execution_count": 13,
      "outputs": []
    }
  ]
}