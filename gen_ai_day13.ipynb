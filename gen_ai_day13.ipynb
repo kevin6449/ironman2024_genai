{
  "nbformat": 4,
  "nbformat_minor": 0,
  "metadata": {
    "colab": {
      "provenance": [],
      "authorship_tag": "ABX9TyMBIWTSYBwN+ryuEaYx1gK+",
      "include_colab_link": true
    },
    "kernelspec": {
      "name": "python3",
      "display_name": "Python 3"
    },
    "language_info": {
      "name": "python"
    }
  },
  "cells": [
    {
      "cell_type": "markdown",
      "metadata": {
        "id": "view-in-github",
        "colab_type": "text"
      },
      "source": [
        "<a href=\"https://colab.research.google.com/github/kevin6449/ironman2024_genai/blob/main/gen_ai_day13.ipynb\" target=\"_parent\"><img src=\"https://colab.research.google.com/assets/colab-badge.svg\" alt=\"Open In Colab\"/></a>"
      ]
    },
    {
      "cell_type": "markdown",
      "source": [
        "# Gemini API：函數呼叫配置"
      ],
      "metadata": {
        "id": "FEZMTZMHe5pn"
      }
    },
    {
      "cell_type": "markdown",
      "source": [
        "指定 afunction_calling_config可讓您控制 Gemini API 在tools指定後的行為。例如，您可以選擇僅允許自由文字輸出（停用函數呼叫）、強制它從 中提供的函數子集中進行選擇tools，或讓它自動執行。"
      ],
      "metadata": {
        "id": "3b1FZu7we9Ii"
      }
    },
    {
      "cell_type": "code",
      "execution_count": 49,
      "metadata": {
        "id": "lNhO3EcTSNiN"
      },
      "outputs": [],
      "source": [
        "import google.generativeai as genai"
      ]
    },
    {
      "cell_type": "code",
      "source": [
        "from google.colab import userdata\n",
        "\n",
        "API_KEY=userdata.get('GOOGLE_API_KEY')"
      ],
      "metadata": {
        "id": "Q8X5YoTZUhCl"
      },
      "execution_count": 50,
      "outputs": []
    },
    {
      "cell_type": "code",
      "source": [
        "#genai.configure(api_key=\"YOUR_API_KEY\")\n",
        "\n",
        "# Configure the client library by providing your API key.\n",
        "genai.configure(api_key=API_KEY)"
      ],
      "metadata": {
        "id": "2eSd4pxcUkXn"
      },
      "execution_count": 51,
      "outputs": []
    },
    {
      "cell_type": "markdown",
      "source": [
        "### 使用工具建立模型"
      ],
      "metadata": {
        "id": "l-rx35kbfHwv"
      }
    },
    {
      "cell_type": "markdown",
      "source": [
        "使用 3 個函數來控制一個簡單的假設照明系統。使用這些函數需要按特定順序呼叫它們。例如，您必須先開啟燈光系統，然後才能變更顏色。\n",
        "\n",
        "雖然您可以將它們直接傳遞給模型並讓它嘗試正確呼叫它們，但指定 可以function_calling_config讓您精確控制模型可用的函數。"
      ],
      "metadata": {
        "id": "HEtROnyafJrM"
      }
    },
    {
      "cell_type": "code",
      "source": [
        "def enable_lights():\n",
        "    \"\"\"Turn on the lighting system.\"\"\"\n",
        "    print(\"LIGHTBOT: 燈已啟用。\")\n",
        "\n",
        "\n",
        "def set_light_color(rgb_hex: str):\n",
        "    \"\"\"Set the light color. Lights must be enabled for this to work.\"\"\"\n",
        "    print(f\"LIGHTBOT: 燈設定為 {rgb_hex}.\")\n",
        "\n",
        "\n",
        "def stop_lights():\n",
        "    \"\"\"Stop flashing lights.\"\"\"\n",
        "    print(\"LIGHTBOT: 燈已關閉。\")\n",
        "\n",
        "\n",
        "light_controls = [enable_lights, set_light_color, stop_lights]\n",
        "instruction = \"您是一個有用的照明系統機器人。您可以開啟和關閉燈光，也可以設定顏色。不要執行任何其他任務。\"\n",
        "\n",
        "model = genai.GenerativeModel(\n",
        "    \"models/gemini-1.5-pro\", tools=light_controls, system_instruction=instruction\n",
        ")\n",
        "\n",
        "chat = model.start_chat()"
      ],
      "metadata": {
        "id": "Vgb7U9WbUm_V"
      },
      "execution_count": 52,
      "outputs": []
    },
    {
      "cell_type": "markdown",
      "source": [
        "function_calling_config建立一個用於設定的輔助函數tool_config。"
      ],
      "metadata": {
        "id": "qkRfu_Q3fU_m"
      }
    },
    {
      "cell_type": "code",
      "source": [
        "from google.generativeai.types import content_types\n",
        "from collections.abc import Iterable\n",
        "\n",
        "\n",
        "def tool_config_from_mode(mode: str, fns: Iterable[str] = ()):\n",
        "    \"\"\"Create a tool config with the specified function calling mode.\"\"\"\n",
        "    return content_types.to_tool_config(\n",
        "        {\"function_calling_config\": {\"mode\": mode, \"allowed_function_names\": fns}}\n",
        "    )"
      ],
      "metadata": {
        "id": "IJkQarmtUt_w"
      },
      "execution_count": 53,
      "outputs": []
    },
    {
      "cell_type": "markdown",
      "source": [
        "## 純文字模式：NONE"
      ],
      "metadata": {
        "id": "OXyMKCKQfZVP"
      }
    },
    {
      "cell_type": "markdown",
      "source": [
        "如果您為模型提供了工具，但不想在目前會話中使用這些工具，則指定NONE為模式。NONE告訴模型不要進行任何函數調用，並且表現得就像沒有提供任何函數調用一樣。"
      ],
      "metadata": {
        "id": "7PaU41t2ffLr"
      }
    },
    {
      "cell_type": "code",
      "source": [
        "tool_config = tool_config_from_mode(\"none\")\n",
        "\n",
        "response = chat.send_message(\n",
        "    \"你好，燈光機器人，你能做什麼？\", tool_config=tool_config\n",
        ")\n",
        "print(response.text)"
      ],
      "metadata": {
        "colab": {
          "base_uri": "https://localhost:8080/",
          "height": 53
        },
        "id": "xkd1qXbMU1iC",
        "outputId": "e22a615f-8b4d-4450-c631-30e21d1c5953"
      },
      "execution_count": 54,
      "outputs": [
        {
          "output_type": "stream",
          "name": "stdout",
          "text": [
            "我可以開燈和關燈，還可以設定顏色。 我還能做些什麼嗎？ \n",
            "\n"
          ]
        }
      ]
    },
    {
      "cell_type": "markdown",
      "source": [
        "### 自動模式：AUTO"
      ],
      "metadata": {
        "id": "M6HOVT7Ofm3W"
      }
    },
    {
      "cell_type": "markdown",
      "source": [
        "要讓模型決定是否以文字方式回應或呼叫特定函數，您可以指定AUTO為 mode。"
      ],
      "metadata": {
        "id": "70QrIkkPftAD"
      }
    },
    {
      "cell_type": "code",
      "source": [
        "tool_config = tool_config_from_mode(\"auto\")\n",
        "\n",
        "response = chat.send_message(\"點亮這個地方！\", tool_config=tool_config)\n",
        "print(response.parts[0])\n",
        "chat.rewind();  # 您實際上並未呼叫該函數，因此請將其從歷史記錄中刪除。"
      ],
      "metadata": {
        "colab": {
          "base_uri": "https://localhost:8080/",
          "height": 124
        },
        "id": "HwFtA4Itb8OO",
        "outputId": "2e242af7-02be-4175-d1db-0a4a3d7afecc"
      },
      "execution_count": 55,
      "outputs": [
        {
          "output_type": "stream",
          "name": "stdout",
          "text": [
            "function_call {\n",
            "  name: \"enable_lights\"\n",
            "  args {\n",
            "  }\n",
            "}\n",
            "\n"
          ]
        }
      ]
    },
    {
      "cell_type": "markdown",
      "source": [
        "## 函數呼叫方式：ANY"
      ],
      "metadata": {
        "id": "5fIgPz6vfwrf"
      }
    },
    {
      "cell_type": "markdown",
      "source": [
        "將模式設定為ANY將強制模型進行函數呼叫。透過設置allowed_function_names，模型將僅從這些函數中進行選擇。如果未設置，則 中的所有函數都是tools函數呼叫的候選函數。"
      ],
      "metadata": {
        "id": "OM7ivsRkf2Ez"
      }
    },
    {
      "cell_type": "code",
      "source": [
        "available_fns = [\"set_light_color\", \"stop_lights\"]\n",
        "\n",
        "tool_config = tool_config_from_mode(\"any\", available_fns)\n",
        "\n",
        "response = chat.send_message(\"把這個地方變成紫色！\", tool_config=tool_config)\n",
        "print(response.parts[0])"
      ],
      "metadata": {
        "colab": {
          "base_uri": "https://localhost:8080/",
          "height": 231
        },
        "id": "LlPKbcgccB7S",
        "outputId": "06ae05a6-95c9-46bc-92b9-010001e69970"
      },
      "execution_count": 56,
      "outputs": [
        {
          "output_type": "stream",
          "name": "stdout",
          "text": [
            "function_call {\n",
            "  name: \"set_light_color\"\n",
            "  args {\n",
            "    fields {\n",
            "      key: \"rgb_hex\"\n",
            "      value {\n",
            "        string_value: \"7F00FF\"\n",
            "      }\n",
            "    }\n",
            "  }\n",
            "}\n",
            "\n"
          ]
        }
      ]
    },
    {
      "cell_type": "markdown",
      "source": [
        "## 自動函數調用"
      ],
      "metadata": {
        "id": "Lp-WSk8zgAef"
      }
    },
    {
      "cell_type": "markdown",
      "source": [
        "tool_config啟用自動函數呼叫時也有效。"
      ],
      "metadata": {
        "id": "kOMHOhnigFcI"
      }
    },
    {
      "cell_type": "code",
      "source": [
        "available_fns = [\"enable_lights\"]\n",
        "tool_config = tool_config_from_mode(\"any\", available_fns)\n",
        "\n",
        "auto_chat = model.start_chat(enable_automatic_function_calling=True)\n",
        "auto_chat.send_message(\"這裡太黑了...\", tool_config=tool_config)"
      ],
      "metadata": {
        "colab": {
          "base_uri": "https://localhost:8080/",
          "height": 821
        },
        "id": "FQBDSqV1cJIw",
        "outputId": "2e36a5da-113e-4fbc-ae57-ac26513425d0"
      },
      "execution_count": 57,
      "outputs": [
        {
          "output_type": "stream",
          "name": "stdout",
          "text": [
            "LIGHTBOT: 燈已啟用。\n"
          ]
        },
        {
          "output_type": "execute_result",
          "data": {
            "text/plain": [
              "response:\n",
              "GenerateContentResponse(\n",
              "    done=True,\n",
              "    iterator=None,\n",
              "    result=protos.GenerateContentResponse({\n",
              "      \"candidates\": [\n",
              "        {\n",
              "          \"content\": {\n",
              "            \"parts\": [\n",
              "              {\n",
              "                \"text\": \"\\u6211\\u5df2\\u70ba\\u60a8\\u958b\\u71c8\\u3002\"\n",
              "              }\n",
              "            ],\n",
              "            \"role\": \"model\"\n",
              "          },\n",
              "          \"finish_reason\": \"STOP\",\n",
              "          \"index\": 0,\n",
              "          \"safety_ratings\": [\n",
              "            {\n",
              "              \"category\": \"HARM_CATEGORY_SEXUALLY_EXPLICIT\",\n",
              "              \"probability\": \"NEGLIGIBLE\"\n",
              "            },\n",
              "            {\n",
              "              \"category\": \"HARM_CATEGORY_HATE_SPEECH\",\n",
              "              \"probability\": \"NEGLIGIBLE\"\n",
              "            },\n",
              "            {\n",
              "              \"category\": \"HARM_CATEGORY_HARASSMENT\",\n",
              "              \"probability\": \"NEGLIGIBLE\"\n",
              "            },\n",
              "            {\n",
              "              \"category\": \"HARM_CATEGORY_DANGEROUS_CONTENT\",\n",
              "              \"probability\": \"NEGLIGIBLE\"\n",
              "            }\n",
              "          ]\n",
              "        }\n",
              "      ],\n",
              "      \"usage_metadata\": {\n",
              "        \"prompt_token_count\": 163,\n",
              "        \"candidates_token_count\": 7,\n",
              "        \"total_token_count\": 170\n",
              "      }\n",
              "    }),\n",
              ")"
            ]
          },
          "metadata": {},
          "execution_count": 57
        }
      ]
    }
  ]
}