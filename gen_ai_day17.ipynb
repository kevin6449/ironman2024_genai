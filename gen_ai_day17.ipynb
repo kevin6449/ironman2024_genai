{
  "nbformat": 4,
  "nbformat_minor": 0,
  "metadata": {
    "colab": {
      "provenance": [],
      "authorship_tag": "ABX9TyNyCa0yJgY9GAtSPKfmGNas",
      "include_colab_link": true
    },
    "kernelspec": {
      "name": "python3",
      "display_name": "Python 3"
    },
    "language_info": {
      "name": "python"
    }
  },
  "cells": [
    {
      "cell_type": "markdown",
      "metadata": {
        "id": "view-in-github",
        "colab_type": "text"
      },
      "source": [
        "<a href=\"https://colab.research.google.com/github/kevin6449/ironman2024_genai/blob/main/gen_ai_day17.ipynb\" target=\"_parent\"><img src=\"https://colab.research.google.com/assets/colab-badge.svg\" alt=\"Open In Colab\"/></a>"
      ]
    },
    {
      "cell_type": "markdown",
      "source": [
        "# 嵌入 Gemini API"
      ],
      "metadata": {
        "id": "tlKO8hO2r8Gv"
      }
    },
    {
      "cell_type": "code",
      "execution_count": 29,
      "metadata": {
        "id": "HCWhsHJHrjpp"
      },
      "outputs": [],
      "source": [
        "import google.generativeai as genai\n",
        "\n",
        "from google.colab import userdata\n",
        "\n",
        "API_KEY=userdata.get('GOOGLE_API_KEY')\n",
        "\n",
        "#genai.configure(api_key=\"YOUR_API_KEY\")\n",
        "\n",
        "# Configure the client library by providing your API key.\n",
        "genai.configure(api_key=API_KEY)"
      ]
    },
    {
      "cell_type": "markdown",
      "source": [
        "result = genai.embed_content(\n",
        "    model=\"models/text-embedding-004\",\n",
        "    content=\"What is the meaning of life?\",\n",
        "    task_type=\"retrieval_document\",\n",
        "    title=\"Embedding of single string\")\n",
        "\n",
        "# 1 input > 1 vector output\n",
        "print(str(result['embedding'])[:50], '... TRIMMED]')"
      ],
      "metadata": {
        "id": "pQKXRW9nsDpA"
      }
    },
    {
      "cell_type": "code",
      "source": [
        "result = genai.embed_content(\n",
        "    model=\"models/text-embedding-004\",\n",
        "    content=\"What is the meaning of life?\",\n",
        "    task_type=\"retrieval_document\",\n",
        "    title=\"Embedding of single string\")\n",
        "\n",
        "# 1 input > 1 vector output\n",
        "print(str(result['embedding'])[:50], '... TRIMMED]')"
      ],
      "metadata": {
        "colab": {
          "base_uri": "https://localhost:8080/",
          "height": 35
        },
        "id": "srDXnbDNQ78N",
        "outputId": "d55c09e5-a842-418b-f6c2-c597bf074edf"
      },
      "execution_count": 31,
      "outputs": [
        {
          "output_type": "stream",
          "name": "stdout",
          "text": [
            "[-0.028545432, 0.044588123, -0.03419736, -0.004266 ... TRIMMED]\n"
          ]
        }
      ]
    },
    {
      "cell_type": "code",
      "source": [
        "# 不支援中文，只有英文 text-embedding-004\n",
        "# 多國語系 text-multilingual-embedding-002 ，只能用 Vertex AI\n",
        "result = genai.embed_content(\n",
        "    model=\"models/text-embedding-004\",\n",
        "    content=\"生命的意義是什麼？\",\n",
        "    task_type=\"retrieval_document\",\n",
        "    title=\"嵌入單一字串\")\n",
        "\n",
        "# 1 input > 1 vector output\n",
        "print(str(result['embedding'])[:50], '... TRIMMED]')"
      ],
      "metadata": {
        "colab": {
          "base_uri": "https://localhost:8080/",
          "height": 35
        },
        "id": "XlfXEJcEuEt9",
        "outputId": "1e30c687-7843-41d4-a032-5a02226d95d5"
      },
      "execution_count": 30,
      "outputs": [
        {
          "output_type": "stream",
          "name": "stdout",
          "text": [
            "[0.0024564546, 0.022666605, -0.01602594, -0.007231 ... TRIMMED]\n"
          ]
        }
      ]
    },
    {
      "cell_type": "markdown",
      "source": [
        "中文 embedding是一樣的向量"
      ],
      "metadata": {
        "id": "bcJTNvcFRatQ"
      }
    },
    {
      "cell_type": "code",
      "source": [
        "result = genai.embed_content(\n",
        "    model=\"models/text-embedding-004\",\n",
        "    content=\"寫鐵人賽的意義是什麼？\",\n",
        "    task_type=\"retrieval_document\",\n",
        "    title=\"嵌入單一字串\")\n",
        "\n",
        "# 1 input > 1 vector output\n",
        "print(str(result['embedding'])[:50], '... TRIMMED]')"
      ],
      "metadata": {
        "colab": {
          "base_uri": "https://localhost:8080/",
          "height": 35
        },
        "id": "_tmDCqJoRKzC",
        "outputId": "3ba8f12a-bec7-411a-c230-9045760b9bba"
      },
      "execution_count": 33,
      "outputs": [
        {
          "output_type": "stream",
          "name": "stdout",
          "text": [
            "[0.0024564546, 0.022666605, -0.01602594, -0.007231 ... TRIMMED]\n"
          ]
        }
      ]
    },
    {
      "cell_type": "markdown",
      "source": [
        "又不一樣了，text-embedding-004 不是只支援英文嗎"
      ],
      "metadata": {
        "id": "knGsUynLR29l"
      }
    },
    {
      "cell_type": "code",
      "source": [
        "result = genai.embed_content(\n",
        "    model=\"models/text-embedding-004\",\n",
        "    content=\"你好嗎是的意義是什麼\",\n",
        "    task_type=\"retrieval_document\",\n",
        "    title=\"嵌入單一字串\")\n",
        "\n",
        "# 1 input > 1 vector output\n",
        "print(str(result['embedding'])[:50], '... TRIMMED]')"
      ],
      "metadata": {
        "colab": {
          "base_uri": "https://localhost:8080/",
          "height": 35
        },
        "id": "li_YU_gVQ__4",
        "outputId": "3242d763-45a8-472b-ab91-5018a530ab6e"
      },
      "execution_count": 35,
      "outputs": [
        {
          "output_type": "stream",
          "name": "stdout",
          "text": [
            "[0.003431199, 0.037783213, 0.0040708627, -0.013930 ... TRIMMED]\n"
          ]
        }
      ]
    }
  ]
}