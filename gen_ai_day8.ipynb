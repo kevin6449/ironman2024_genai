{
  "nbformat": 4,
  "nbformat_minor": 0,
  "metadata": {
    "colab": {
      "provenance": [],
      "authorship_tag": "ABX9TyNnYW9hP291ArxuZ+qjLYEG",
      "include_colab_link": true
    },
    "kernelspec": {
      "name": "python3",
      "display_name": "Python 3"
    },
    "language_info": {
      "name": "python"
    }
  },
  "cells": [
    {
      "cell_type": "markdown",
      "metadata": {
        "id": "view-in-github",
        "colab_type": "text"
      },
      "source": [
        "<a href=\"https://colab.research.google.com/github/kevin6449/ironman2024_genai/blob/main/gen_ai_day8.ipynb\" target=\"_parent\"><img src=\"https://colab.research.google.com/assets/colab-badge.svg\" alt=\"Open In Colab\"/></a>"
      ]
    },
    {
      "cell_type": "markdown",
      "source": [
        "# 運用 Gemini API 探索視覺功能"
      ],
      "metadata": {
        "id": "qq3YtB0brQo8"
      }
    },
    {
      "cell_type": "markdown",
      "source": [
        "Gemini API 可以對傳遞的圖片和影片進行推論。通過時 圖片、一組圖片或影片，Gemini 就能：\n",
        "\n",
        "*   說明或回答內容相關問題\n",
        "*   提供內容的摘要\n",
        "*   從內容推斷\n",
        "\n"
      ],
      "metadata": {
        "id": "XQ81W47xrU6X"
      }
    },
    {
      "cell_type": "code",
      "execution_count": 3,
      "metadata": {
        "id": "YU072Prhmnb4"
      },
      "outputs": [],
      "source": [
        "import google.generativeai as genai"
      ]
    },
    {
      "cell_type": "code",
      "source": [
        "from google.colab import userdata\n",
        "\n",
        "API_KEY=userdata.get('GOOGLE_API_KEY')"
      ],
      "metadata": {
        "id": "sTynmag3m4Jm"
      },
      "execution_count": 4,
      "outputs": []
    },
    {
      "cell_type": "code",
      "source": [
        "#genai.configure(api_key=\"YOUR_API_KEY\")\n",
        "\n",
        "# Configure the client library by providing your API key.\n",
        "genai.configure(api_key=API_KEY)"
      ],
      "metadata": {
        "id": "hKKTG0fXm6aZ"
      },
      "execution_count": 5,
      "outputs": []
    },
    {
      "cell_type": "markdown",
      "source": [
        "# 使用 File API 上傳圖片檔"
      ],
      "metadata": {
        "id": "EIVTcbogrrM7"
      }
    },
    {
      "cell_type": "code",
      "source": [
        "!curl -o jetpack.jpg https://storage.googleapis.com/generativeai-downloads/images/jetpack.jpg"
      ],
      "metadata": {
        "colab": {
          "base_uri": "https://localhost:8080/"
        },
        "id": "ouys98FZnAcY",
        "outputId": "d1144cdd-98ce-4de8-8822-61fec0caaa8a"
      },
      "execution_count": 6,
      "outputs": [
        {
          "output_type": "stream",
          "name": "stdout",
          "text": [
            "  % Total    % Received % Xferd  Average Speed   Time    Time     Time  Current\n",
            "                                 Dload  Upload   Total   Spent    Left  Speed\n",
            "\r  0     0    0     0    0     0      0      0 --:--:-- --:--:-- --:--:--     0\r 16  349k   16 59657    0     0   415k      0 --:--:-- --:--:-- --:--:--  413k\r100  349k  100  349k    0     0  2452k      0 --:--:-- --:--:-- --:--:-- 2441k\n"
          ]
        }
      ]
    },
    {
      "cell_type": "code",
      "source": [
        "# Upload the file and print a confirmation.\n",
        "sample_file = genai.upload_file(path=\"jetpack.jpg\",\n",
        "                            display_name=\"Jetpack drawing\")\n",
        "\n",
        "print(f\"Uploaded file '{sample_file.display_name}' as: {sample_file.uri}\")"
      ],
      "metadata": {
        "colab": {
          "base_uri": "https://localhost:8080/",
          "height": 35
        },
        "id": "vj3jxZ0LnF8b",
        "outputId": "95e91cd0-2440-4429-a100-c07002cfdd25"
      },
      "execution_count": 7,
      "outputs": [
        {
          "output_type": "stream",
          "name": "stdout",
          "text": [
            "Uploaded file 'Jetpack drawing' as: https://generativelanguage.googleapis.com/v1beta/files/5bqo8ymghi6p\n"
          ]
        }
      ]
    },
    {
      "cell_type": "markdown",
      "source": [
        "# 驗證圖片檔上傳並取得中繼資料"
      ],
      "metadata": {
        "id": "jLuEs0SFrxNQ"
      }
    },
    {
      "cell_type": "code",
      "source": [
        "file = genai.get_file(name=sample_file.name)\n",
        "print(f\"Retrieved file '{file.display_name}' as: {sample_file.uri}\")"
      ],
      "metadata": {
        "colab": {
          "base_uri": "https://localhost:8080/",
          "height": 35
        },
        "id": "4A2GG-x7nJUi",
        "outputId": "9781517e-e5ff-46f9-f4bc-c08f3e23a9a0"
      },
      "execution_count": 8,
      "outputs": [
        {
          "output_type": "stream",
          "name": "stdout",
          "text": [
            "Retrieved file 'Jetpack drawing' as: https://generativelanguage.googleapis.com/v1beta/files/5bqo8ymghi6p\n"
          ]
        }
      ]
    },
    {
      "cell_type": "markdown",
      "source": [
        "# 使用上傳的圖片和文字做為提示\n",
        "使用 gemini-1.5-pro"
      ],
      "metadata": {
        "id": "5EuPF4wHr212"
      }
    },
    {
      "cell_type": "code",
      "source": [
        "import markdown"
      ],
      "metadata": {
        "id": "JEZcLOj0oDmM"
      },
      "execution_count": 10,
      "outputs": []
    },
    {
      "cell_type": "code",
      "source": [
        "# Choose a Gemini model.\n",
        "model = genai.GenerativeModel(model_name=\"gemini-1.5-pro\")\n",
        "\n",
        "# Prompt the model with text and the previously uploaded image.\n",
        "response = model.generate_content([sample_file, \"描述如何製造該產品,請用繁體中文回答 \"])\n",
        "\n",
        "markdown.markdown(\">\" + response.text)"
      ],
      "metadata": {
        "colab": {
          "base_uri": "https://localhost:8080/",
          "height": 125
        },
        "id": "As3ZFaM0nMst",
        "outputId": "823ffd48-118c-40b7-e450-22ad9f298ad9"
      },
      "execution_count": 26,
      "outputs": [
        {
          "output_type": "execute_result",
          "data": {
            "text/plain": [
              "'<blockquote>\\n<p>這是一個噴射背包的設計圖，以下是製造說明：</p>\\n</blockquote>\\n<p><strong>外觀和功能：</strong></p>\\n<ol>\\n<li><strong>背包外型：</strong>設計成普通背包的樣子，輕便且不引人注目。</li>\\n<li><strong>尺寸：</strong>能夠容納 18 吋筆記型電腦。</li>\\n<li><strong>背帶：</strong>加厚設計，提供舒適的背負體驗。</li>\\n</ol>\\n<p><strong>動力系統：</strong></p>\\n<ol>\\n<li><strong>推進器：</strong>底部裝有可伸縮的推進器，提供升力。</li>\\n<li><strong>動力來源：</strong>採用蒸汽動力系統，環保清潔。</li>\\n<li><strong>電池續航：</strong>電池續航力達 15 分鐘。</li>\\n</ol>\\n<p><strong>其他功能：</strong></p>\\n<ol>\\n<li><strong>USB-C 充電：</strong>方便為電子設備充電。</li>\\n</ol>\\n<p><strong>製造流程：</strong></p>\\n<ol>\\n<li><strong>設計和研發：</strong>根據設計圖進行產品的詳細設計，包括材料選擇、結構設計、動力系統設計等。</li>\\n<li><strong>材料準備：</strong>採購製造背包所需的各種材料，例如：輕便耐用的背包面料、推進器材料、蒸汽動力系統組件、電池等。</li>\\n<li><strong>加工和組裝：</strong></li>\\n<li>根據設計圖紙，加工製作背包的各個部件。</li>\\n<li>將推進器、蒸汽動力系統、電池等組件安裝到背包底部。</li>\\n<li>將加厚背帶縫合到背包上，確保舒適性和安全性。</li>\\n<li><strong>測試和調試：</strong>對組裝好的噴射背包進行嚴格的測試，確保其功能正常、安全可靠。</li>\\n<li><strong>品質檢驗和包裝：</strong>通過品質檢驗的產品進行包裝，準備上市銷售。</li>\\n</ol>\\n<p><strong>注意事項：</strong></p>\\n<ul>\\n<li>在設計和製造過程中，需要特別關注安全性，確保推進器和蒸汽動力系統的穩定可靠。</li>\\n<li>電池續航力是一個需要克服的挑戰，可以考慮採用更高效的電池技術或其他動力方案。</li>\\n</ul>\\n<p>總而言之，要製造出實用的噴射背包，需要結合多學科的知識和技術，並進行嚴謹的設計、製造和測試。 </p>'"
            ],
            "application/vnd.google.colaboratory.intrinsic+json": {
              "type": "string"
            }
          },
          "metadata": {},
          "execution_count": 26
        }
      ]
    },
    {
      "cell_type": "markdown",
      "source": [
        "# 上傳一或多個儲存在本機的圖片檔"
      ],
      "metadata": {
        "id": "JiBsvPsRsMQf"
      }
    },
    {
      "cell_type": "code",
      "source": [
        "from keras.preprocessing import image"
      ],
      "metadata": {
        "id": "uFHUFRe0o6Dk"
      },
      "execution_count": 15,
      "outputs": []
    },
    {
      "cell_type": "code",
      "source": [
        "!curl -o piranha.jpg https://storage.googleapis.com/generativeai-downloads/images/piranha.jpg"
      ],
      "metadata": {
        "colab": {
          "base_uri": "https://localhost:8080/"
        },
        "id": "2l3JghTLpPkp",
        "outputId": "063bf001-377b-4926-81eb-d24fd6a01bb4"
      },
      "execution_count": 17,
      "outputs": [
        {
          "output_type": "stream",
          "name": "stdout",
          "text": [
            "  % Total    % Received % Xferd  Average Speed   Time    Time     Time  Current\n",
            "                                 Dload  Upload   Total   Spent    Left  Speed\n",
            "\r  0     0    0     0    0     0      0      0 --:--:-- --:--:-- --:--:--     0\r100 1146k  100 1146k    0     0  7270k      0 --:--:-- --:--:-- --:--:-- 7302k\n"
          ]
        }
      ]
    },
    {
      "cell_type": "code",
      "source": [
        "!curl -o firefighter.jpg https://storage.googleapis.com/generativeai-downloads/images/firefighter.jpg"
      ],
      "metadata": {
        "colab": {
          "base_uri": "https://localhost:8080/"
        },
        "id": "4rn-jPNEpXmK",
        "outputId": "e0be448d-88f9-4174-938c-6c540d60215d"
      },
      "execution_count": 18,
      "outputs": [
        {
          "output_type": "stream",
          "name": "stdout",
          "text": [
            "  % Total    % Received % Xferd  Average Speed   Time    Time     Time  Current\n",
            "                                 Dload  Upload   Total   Spent    Left  Speed\n",
            "\r  0     0    0     0    0     0      0      0 --:--:-- --:--:-- --:--:--     0\r100  534k  100  534k    0     0  4783k      0 --:--:-- --:--:-- --:--:-- 4815k\n"
          ]
        }
      ]
    },
    {
      "cell_type": "code",
      "source": [
        "import PIL.Image\n",
        "\n",
        "sample_file_2 = PIL.Image.open('piranha.jpg')\n",
        "sample_file_3 = PIL.Image.open('firefighter.jpg')"
      ],
      "metadata": {
        "id": "wAD6ARafnZax"
      },
      "execution_count": 19,
      "outputs": []
    },
    {
      "cell_type": "markdown",
      "source": [
        "# 使用多張圖片提示"
      ],
      "metadata": {
        "id": "li5miyb_sRcQ"
      }
    },
    {
      "cell_type": "code",
      "source": [
        "# Choose a Gemini model.\n",
        "model = genai.GenerativeModel(model_name=\"gemini-1.5-pro\")\n",
        "\n",
        "prompt = \"寫一段廣告順口溜，展示第一張圖片中的產品如何解決後兩張圖片中顯示的問題。\"\n",
        "\n",
        "response = model.generate_content([prompt, sample_file, sample_file_2, sample_file_3])\n",
        "\n",
        "markdown.markdown(\">\" + response.text)"
      ],
      "metadata": {
        "colab": {
          "base_uri": "https://localhost:8080/",
          "height": 53
        },
        "id": "lECGx_1Knadc",
        "outputId": "09c096a4-f2d6-4c84-e09d-68a1ad576287"
      },
      "execution_count": 21,
      "outputs": [
        {
          "output_type": "execute_result",
          "data": {
            "text/plain": [
              "'<blockquote>\\n<p>被鯊魚困住？還是貓咪受困？\\n生活給你檸檬時，就飛過去吧！</p>\\n</blockquote>\\n<p>使用噴射背包，問題迎刃而解，\\n這款背包動力十足，外觀時尚。\\n環保的動力，讓你翱翔天際，\\n超長的電池續航力，讓你永不放棄。</p>\\n<p>加墊肩帶，舒適無比，\\nUSB 充電功能，隨時補充電力。\\n別再猶豫，這款背包非你莫屬，\\n噴射背包，成就非凡自我！</p>'"
            ],
            "application/vnd.google.colaboratory.intrinsic+json": {
              "type": "string"
            }
          },
          "metadata": {},
          "execution_count": 21
        }
      ]
    },
    {
      "cell_type": "markdown",
      "source": [
        "# 取得物件的定界框"
      ],
      "metadata": {
        "id": "r7jYzW9QsVdC"
      }
    },
    {
      "cell_type": "code",
      "source": [
        "# Choose a Gemini model.\n",
        "model = genai.GenerativeModel(model_name=\"gemini-1.5-pro\")\n",
        "\n",
        "prompt = \"返回食人魚的邊界框。 \\n [ymin, xmin, ymax, xmax]\"\n",
        "response = model.generate_content([sample_file_2, prompt])\n",
        "\n",
        "print(response.text)"
      ],
      "metadata": {
        "colab": {
          "base_uri": "https://localhost:8080/",
          "height": 53
        },
        "id": "sQAux29-nf77",
        "outputId": "403d194f-4ed8-4857-dc02-8ec0d88790c3"
      },
      "execution_count": 24,
      "outputs": [
        {
          "output_type": "stream",
          "name": "stdout",
          "text": [
            "[612, 504, 701, 618]\n",
            "\n"
          ]
        }
      ]
    }
  ]
}