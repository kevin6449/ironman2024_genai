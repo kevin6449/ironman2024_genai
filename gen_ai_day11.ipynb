{
  "nbformat": 4,
  "nbformat_minor": 0,
  "metadata": {
    "colab": {
      "provenance": [],
      "authorship_tag": "ABX9TyOXpygqKnkDA1+bVTCHHlP5",
      "include_colab_link": true
    },
    "kernelspec": {
      "name": "python3",
      "display_name": "Python 3"
    },
    "language_info": {
      "name": "python"
    }
  },
  "cells": [
    {
      "cell_type": "markdown",
      "metadata": {
        "id": "view-in-github",
        "colab_type": "text"
      },
      "source": [
        "<a href=\"https://colab.research.google.com/github/kevin6449/ironman2024_genai/blob/main/gen_ai_day11.ipynb\" target=\"_parent\"><img src=\"https://colab.research.google.com/assets/colab-badge.svg\" alt=\"Open In Colab\"/></a>"
      ]
    },
    {
      "cell_type": "markdown",
      "source": [
        "# 使用 Gemini API 產生結構化輸出"
      ],
      "metadata": {
        "id": "-2lHOoqHIJfF"
      }
    },
    {
      "cell_type": "markdown",
      "source": [
        "Gemini 預設產生非結構化文本，但某些應用程式需要結構化文字。對於這些用例，您可以限制 Gemini 使用 JSON 回應，JSON 是一種適合自動處理的結構化資料格式。您也可以限制模型使用枚舉中指定的選項之一進行回應。\n",
        "\n",
        "以下是一些可能需要模型結構化輸出的用例：\n",
        "\n",
        "- 透過從報紙文章中提取公司資訊來建立公司資料庫。\n",
        "- 從簡歷中提取標準化資訊。\n",
        "- 從食譜中提取成分，並顯示每種成分的雜貨網站連結。\n",
        "\n",
        "在提示中，您可以要求 Gemini 產生 JSON 格式的輸出，但請注意，該模型不保證會產生 JSON，並且只產生 JSON。為了獲得更具確定性的回應，您可以在 responseSchema 欄位中傳遞特定的 JSON 模式，以便 Gemini 始終以預期的結構進行回應。\n",
        "\n",
        "\n",
        "如何使用 generateContent您選擇的 SDK 或直接使用 REST API 的方法來產生 JSON。\n",
        "顯示了純文字輸入，儘管 Gemini 還可以對包含圖像、 視訊和音訊的多模式請求產生 JSON 回應。\n"
      ],
      "metadata": {
        "id": "wUVpi0yoIVV_"
      }
    },
    {
      "cell_type": "code",
      "execution_count": 1,
      "metadata": {
        "id": "8nFvmLInH-MW"
      },
      "outputs": [],
      "source": [
        "import google.generativeai as genai"
      ]
    },
    {
      "cell_type": "code",
      "source": [
        "from google.colab import userdata\n",
        "\n",
        "API_KEY=userdata.get('GOOGLE_API_KEY')"
      ],
      "metadata": {
        "id": "6bzk_HpmJJWj"
      },
      "execution_count": 2,
      "outputs": []
    },
    {
      "cell_type": "code",
      "source": [
        "#genai.configure(api_key=\"YOUR_API_KEY\")\n",
        "\n",
        "# Configure the client library by providing your API key.\n",
        "genai.configure(api_key=API_KEY)"
      ],
      "metadata": {
        "id": "EEoZ8RWAJLuo"
      },
      "execution_count": 3,
      "outputs": []
    },
    {
      "cell_type": "markdown",
      "source": [
        "# 生成 JSON\n",
        "當模型配置為輸出 JSON 時，它會使用 JSON 格式的輸出來回應任何提示。\n",
        "\n",
        "您可以透過提供架構來控制 JSON 回應的結構。有兩種方法可以為模型提供架構：\n",
        "\n",
        "- 作為提示中的文本\n",
        "- 作為透過模型配置提供的結構化模式"
      ],
      "metadata": {
        "id": "Fw28aCpJJPvZ"
      }
    },
    {
      "cell_type": "markdown",
      "source": [
        "### 在提示中提供模式作為文本"
      ],
      "metadata": {
        "id": "ags2vVhAJc8L"
      }
    },
    {
      "cell_type": "code",
      "source": [
        "model = genai.GenerativeModel(\"gemini-1.5-pro-latest\")\n",
        "prompt = \"\"\"以 JSON 格式列出一些好吃的中餐食譜。\n",
        "\n",
        "使用此 JSON 架構：\n",
        "\n",
        "Recipe = {'recipe_name': str, 'ingredients': list[str]}\n",
        "Return: list[Recipe]\"\"\"\n",
        "result = model.generate_content(prompt)\n",
        "print(result)"
      ],
      "metadata": {
        "colab": {
          "base_uri": "https://localhost:8080/",
          "height": 823
        },
        "id": "vDO03WUkJktk",
        "outputId": "10e56958-e1cd-45f3-cff2-5e4d1042ebd6"
      },
      "execution_count": 9,
      "outputs": [
        {
          "output_type": "stream",
          "name": "stdout",
          "text": [
            "response:\n",
            "GenerateContentResponse(\n",
            "    done=True,\n",
            "    iterator=None,\n",
            "    result=protos.GenerateContentResponse({\n",
            "      \"candidates\": [\n",
            "        {\n",
            "          \"content\": {\n",
            "            \"parts\": [\n",
            "              {\n",
            "                \"text\": \"```json\\n[\\n  {\\n    \\\"recipe_name\\\": \\\"\\u5bae\\u4fdd\\u96de\\u4e01\\\",\\n    \\\"ingredients\\\": [\\n      \\\"\\u96de\\u8089\\u4e01\\\",\\n      \\\"\\u82b1\\u751f\\\",\\n      \\\"\\u4e7e\\u8fa3\\u6912\\\",\\n      \\\"\\u82b1\\u6912\\\",\\n      \\\"\\u8591\\\",\\n      \\\"\\u849c\\\",\\n      \\\"\\u8525\\\",\\n      \\\"\\u91ac\\u6cb9\\\",\\n      \\\"\\u918b\\\",\\n      \\\"\\u7cd6\\\",\\n      \\\"\\u592a\\u767d\\u7c89\\\"\\n    ]\\n  },\\n  {\\n    \\\"recipe_name\\\": \\\"\\u9ebb\\u5a46\\u8c46\\u8150\\\",\\n    \\\"ingredients\\\": [\\n      \\\"\\u5ae9\\u8c46\\u8150\\\",\\n      \\\"\\u8c6c\\u7d5e\\u8089\\\",\\n      \\\"\\u8c46\\u74e3\\u91ac\\\",\\n      \\\"\\u8fa3\\u6912\\u91ac\\\",\\n      \\\"\\u82b1\\u6912\\u7c89\\\",\\n      \\\"\\u8591\\\",\\n      \\\"\\u849c\\\",\\n      \\\"\\u8525\\\",\\n      \\\"\\u91ac\\u6cb9\\\",\\n      \\\"\\u7cd6\\\",\\n      \\\"\\u592a\\u767d\\u7c89\\\"\\n    ]\\n  },\\n  {\\n    \\\"recipe_name\\\": \\\"\\u7cd6\\u918b\\u6392\\u9aa8\\\",\\n    \\\"ingredients\\\": [\\n      \\\"\\u8c6c\\u5c0f\\u6392\\\",\\n      \\\"\\u91ac\\u6cb9\\\",\\n      \\\"\\u918b\\\",\\n      \\\"\\u7cd6\\\",\\n      \\\"\\u8591\\\",\\n      \\\"\\u849c\\\",\\n      \\\"\\u8525\\\",\\n      \\\"\\u592a\\u767d\\u7c89\\\"\\n    ]\\n  },\\n  {\\n    \\\"recipe_name\\\": \\\"\\u9b5a\\u9999\\u8304\\u5b50\\\",\\n    \\\"ingredients\\\": [\\n      \\\"\\u8304\\u5b50\\\",\\n      \\\"\\u8c6c\\u7d5e\\u8089\\\",\\n      \\\"\\u8c46\\u74e3\\u91ac\\\",\\n      \\\"\\u8fa3\\u6912\\u91ac\\\",\\n      \\\"\\u8591\\\",\\n      \\\"\\u849c\\\",\\n      \\\"\\u8525\\\",\\n      \\\"\\u91ac\\u6cb9\\\",\\n      \\\"\\u918b\\\",\\n      \\\"\\u7cd6\\\"\\n    ]\\n  },\\n  {\\n    \\\"recipe_name\\\": \\\"\\u9752\\u6912\\u8089\\u7d72\\\",\\n    \\\"ingredients\\\": [\\n      \\\"\\u8c6c\\u8089\\u7d72\\\",\\n      \\\"\\u9752\\u6912\\\",\\n      \\\"\\u8591\\\",\\n      \\\"\\u849c\\\",\\n      \\\"\\u91ac\\u6cb9\\\",\\n      \\\"\\u592a\\u767d\\u7c89\\\"\\n    ]\\n  }\\n]\\n```\"\n",
            "              }\n",
            "            ],\n",
            "            \"role\": \"model\"\n",
            "          },\n",
            "          \"finish_reason\": \"STOP\",\n",
            "          \"index\": 0,\n",
            "          \"safety_ratings\": [\n",
            "            {\n",
            "              \"category\": \"HARM_CATEGORY_SEXUALLY_EXPLICIT\",\n",
            "              \"probability\": \"NEGLIGIBLE\"\n",
            "            },\n",
            "            {\n",
            "              \"category\": \"HARM_CATEGORY_HATE_SPEECH\",\n",
            "              \"probability\": \"NEGLIGIBLE\"\n",
            "            },\n",
            "            {\n",
            "              \"category\": \"HARM_CATEGORY_HARASSMENT\",\n",
            "              \"probability\": \"NEGLIGIBLE\"\n",
            "            },\n",
            "            {\n",
            "              \"category\": \"HARM_CATEGORY_DANGEROUS_CONTENT\",\n",
            "              \"probability\": \"NEGLIGIBLE\"\n",
            "            }\n",
            "          ]\n",
            "        }\n",
            "      ],\n",
            "      \"usage_metadata\": {\n",
            "        \"prompt_token_count\": 44,\n",
            "        \"candidates_token_count\": 409,\n",
            "        \"total_token_count\": 453\n",
            "      }\n",
            "    }),\n",
            ")\n"
          ]
        }
      ]
    },
    {
      "cell_type": "markdown",
      "source": [
        "### 透過模型配置提供模式"
      ],
      "metadata": {
        "id": "rX6_B3nEK0JZ"
      }
    },
    {
      "cell_type": "code",
      "source": [
        "import typing_extensions as typing\n",
        "\n",
        "class Recipe(typing.TypedDict):\n",
        "    recipe_name: str\n",
        "    ingredients: list[str]\n",
        "\n",
        "model = genai.GenerativeModel(\"gemini-1.5-pro-latest\")\n",
        "result = model.generate_content(\n",
        "    \"列出一些好吃的中餐食譜。\",\n",
        "    generation_config=genai.GenerationConfig(\n",
        "        response_mime_type=\"application/json\", response_schema=list[Recipe]\n",
        "    ),\n",
        ")\n",
        "print(result)"
      ],
      "metadata": {
        "colab": {
          "base_uri": "https://localhost:8080/",
          "height": 823
        },
        "id": "YIuHvXo4LGPs",
        "outputId": "eae754df-036a-4aaa-bb7d-a1f5fae457db"
      },
      "execution_count": 8,
      "outputs": [
        {
          "output_type": "stream",
          "name": "stdout",
          "text": [
            "response:\n",
            "GenerateContentResponse(\n",
            "    done=True,\n",
            "    iterator=None,\n",
            "    result=protos.GenerateContentResponse({\n",
            "      \"candidates\": [\n",
            "        {\n",
            "          \"content\": {\n",
            "            \"parts\": [\n",
            "              {\n",
            "                \"text\": \"[{\\\"ingredients\\\": [\\\"\\u732a\\u8089\\\", \\\"\\u767d\\u83dc\\\", \\\"\\u8c46\\u8150\\\", \\\"\\u7c89\\u6761\\\", \\\"\\u6728\\u8033\\\", \\\"\\u8471\\\", \\\"\\u59dc\\\", \\\"\\u849c\\\", \\\"\\u9171\\u6cb9\\\", \\\"\\u6599\\u9152\\\", \\\"\\u76d0\\\", \\\"\\u7cd6\\\"], \\\"recipe_name\\\": \\\"\\u767d\\u83dc\\u7096\\u7c89\\u6761\\\"}, {\\\"ingredients\\\": [\\\"\\u9e21\\u8089\\\", \\\"\\u9752\\u6912\\\", \\\"\\u7ea2\\u6912\\\", \\\"\\u8471\\\", \\\"\\u59dc\\\", \\\"\\u849c\\\", \\\"\\u8fa3\\u6912\\\", \\\"\\u82b1\\u6912\\\", \\\"\\u9171\\u6cb9\\\", \\\"\\u6599\\u9152\\\", \\\"\\u76d0\\\", \\\"\\u7cd6\\\"], \\\"recipe_name\\\": \\\"\\u5bab\\u4fdd\\u9e21\\u4e01\\\"}, {\\\"ingredients\\\": [\\\"\\u571f\\u8c46\\\", \\\"\\u9752\\u6912\\\", \\\"\\u7ea2\\u6912\\\", \\\"\\u8471\\\", \\\"\\u59dc\\\", \\\"\\u849c\\\", \\\"\\u9171\\u6cb9\\\", \\\"\\u918b\\\", \\\"\\u76d0\\\", \\\"\\u7cd6\\\"], \\\"recipe_name\\\": \\\"\\u571f\\u8c46\\u4e1d\\\"}, {\\\"ingredients\\\": [\\\"\\u756a\\u8304\\\", \\\"\\u9e21\\u86cb\\\", \\\"\\u8471\\\", \\\"\\u59dc\\\", \\\"\\u849c\\\", \\\"\\u76d0\\\", \\\"\\u7cd6\\\"], \\\"recipe_name\\\": \\\"\\u756a\\u8304\\u7092\\u86cb\\\"}, {\\\"ingredients\\\": [\\\"\\u8304\\u5b50\\\", \\\"\\u8089\\u672b\\\", \\\"\\u8471\\\", \\\"\\u59dc\\\", \\\"\\u849c\\\", \\\"\\u8c46\\u74e3\\u9171\\\", \\\"\\u9171\\u6cb9\\\", \\\"\\u6599\\u9152\\\", \\\"\\u76d0\\\", \\\"\\u7cd6\\\"], \\\"recipe_name\\\": \\\"\\u9c7c\\u9999\\u8304\\u5b50\\\"}] \"\n",
            "              }\n",
            "            ],\n",
            "            \"role\": \"model\"\n",
            "          },\n",
            "          \"finish_reason\": \"STOP\",\n",
            "          \"index\": 0,\n",
            "          \"safety_ratings\": [\n",
            "            {\n",
            "              \"category\": \"HARM_CATEGORY_SEXUALLY_EXPLICIT\",\n",
            "              \"probability\": \"NEGLIGIBLE\"\n",
            "            },\n",
            "            {\n",
            "              \"category\": \"HARM_CATEGORY_HATE_SPEECH\",\n",
            "              \"probability\": \"NEGLIGIBLE\"\n",
            "            },\n",
            "            {\n",
            "              \"category\": \"HARM_CATEGORY_HARASSMENT\",\n",
            "              \"probability\": \"NEGLIGIBLE\"\n",
            "            },\n",
            "            {\n",
            "              \"category\": \"HARM_CATEGORY_DANGEROUS_CONTENT\",\n",
            "              \"probability\": \"NEGLIGIBLE\"\n",
            "            }\n",
            "          ]\n",
            "        }\n",
            "      ],\n",
            "      \"usage_metadata\": {\n",
            "        \"prompt_token_count\": 10,\n",
            "        \"candidates_token_count\": 239,\n",
            "        \"total_token_count\": 249\n",
            "      }\n",
            "    }),\n",
            ")\n"
          ]
        }
      ]
    },
    {
      "cell_type": "markdown",
      "source": [
        "### 使用類型提示註解定義架構\n",
        "定義模式最簡單的方法是使用類型提示註解。"
      ],
      "metadata": {
        "id": "du49caE1Lgaq"
      }
    },
    {
      "cell_type": "code",
      "source": [
        "generation_config={\"response_mime_type\": \"application/json\",\n",
        "                   \"response_schema\": list[Recipe]}\n",
        "print(result)"
      ],
      "metadata": {
        "colab": {
          "base_uri": "https://localhost:8080/"
        },
        "id": "_LNqVSpoLsN4",
        "outputId": "8a21429b-4282-47f7-871e-9130ad6317cf"
      },
      "execution_count": 11,
      "outputs": [
        {
          "output_type": "stream",
          "name": "stdout",
          "text": [
            "response:\n",
            "GenerateContentResponse(\n",
            "    done=True,\n",
            "    iterator=None,\n",
            "    result=protos.GenerateContentResponse({\n",
            "      \"candidates\": [\n",
            "        {\n",
            "          \"content\": {\n",
            "            \"parts\": [\n",
            "              {\n",
            "                \"text\": \"```json\\n[\\n  {\\n    \\\"recipe_name\\\": \\\"\\u5bae\\u4fdd\\u96de\\u4e01\\\",\\n    \\\"ingredients\\\": [\\n      \\\"\\u96de\\u8089\\u4e01\\\",\\n      \\\"\\u82b1\\u751f\\\",\\n      \\\"\\u4e7e\\u8fa3\\u6912\\\",\\n      \\\"\\u82b1\\u6912\\\",\\n      \\\"\\u8591\\\",\\n      \\\"\\u849c\\\",\\n      \\\"\\u8525\\\",\\n      \\\"\\u91ac\\u6cb9\\\",\\n      \\\"\\u918b\\\",\\n      \\\"\\u7cd6\\\",\\n      \\\"\\u592a\\u767d\\u7c89\\\"\\n    ]\\n  },\\n  {\\n    \\\"recipe_name\\\": \\\"\\u9ebb\\u5a46\\u8c46\\u8150\\\",\\n    \\\"ingredients\\\": [\\n      \\\"\\u5ae9\\u8c46\\u8150\\\",\\n      \\\"\\u8c6c\\u7d5e\\u8089\\\",\\n      \\\"\\u8c46\\u74e3\\u91ac\\\",\\n      \\\"\\u8fa3\\u6912\\u91ac\\\",\\n      \\\"\\u82b1\\u6912\\u7c89\\\",\\n      \\\"\\u8591\\\",\\n      \\\"\\u849c\\\",\\n      \\\"\\u8525\\\",\\n      \\\"\\u91ac\\u6cb9\\\",\\n      \\\"\\u7cd6\\\",\\n      \\\"\\u592a\\u767d\\u7c89\\\"\\n    ]\\n  },\\n  {\\n    \\\"recipe_name\\\": \\\"\\u7cd6\\u918b\\u6392\\u9aa8\\\",\\n    \\\"ingredients\\\": [\\n      \\\"\\u8c6c\\u5c0f\\u6392\\\",\\n      \\\"\\u91ac\\u6cb9\\\",\\n      \\\"\\u918b\\\",\\n      \\\"\\u7cd6\\\",\\n      \\\"\\u8591\\\",\\n      \\\"\\u849c\\\",\\n      \\\"\\u8525\\\",\\n      \\\"\\u592a\\u767d\\u7c89\\\"\\n    ]\\n  },\\n  {\\n    \\\"recipe_name\\\": \\\"\\u9b5a\\u9999\\u8304\\u5b50\\\",\\n    \\\"ingredients\\\": [\\n      \\\"\\u8304\\u5b50\\\",\\n      \\\"\\u8c6c\\u7d5e\\u8089\\\",\\n      \\\"\\u8c46\\u74e3\\u91ac\\\",\\n      \\\"\\u8fa3\\u6912\\u91ac\\\",\\n      \\\"\\u8591\\\",\\n      \\\"\\u849c\\\",\\n      \\\"\\u8525\\\",\\n      \\\"\\u91ac\\u6cb9\\\",\\n      \\\"\\u918b\\\",\\n      \\\"\\u7cd6\\\"\\n    ]\\n  },\\n  {\\n    \\\"recipe_name\\\": \\\"\\u9752\\u6912\\u8089\\u7d72\\\",\\n    \\\"ingredients\\\": [\\n      \\\"\\u8c6c\\u8089\\u7d72\\\",\\n      \\\"\\u9752\\u6912\\\",\\n      \\\"\\u8591\\\",\\n      \\\"\\u849c\\\",\\n      \\\"\\u91ac\\u6cb9\\\",\\n      \\\"\\u592a\\u767d\\u7c89\\\"\\n    ]\\n  }\\n]\\n```\"\n",
            "              }\n",
            "            ],\n",
            "            \"role\": \"model\"\n",
            "          },\n",
            "          \"finish_reason\": \"STOP\",\n",
            "          \"index\": 0,\n",
            "          \"safety_ratings\": [\n",
            "            {\n",
            "              \"category\": \"HARM_CATEGORY_SEXUALLY_EXPLICIT\",\n",
            "              \"probability\": \"NEGLIGIBLE\"\n",
            "            },\n",
            "            {\n",
            "              \"category\": \"HARM_CATEGORY_HATE_SPEECH\",\n",
            "              \"probability\": \"NEGLIGIBLE\"\n",
            "            },\n",
            "            {\n",
            "              \"category\": \"HARM_CATEGORY_HARASSMENT\",\n",
            "              \"probability\": \"NEGLIGIBLE\"\n",
            "            },\n",
            "            {\n",
            "              \"category\": \"HARM_CATEGORY_DANGEROUS_CONTENT\",\n",
            "              \"probability\": \"NEGLIGIBLE\"\n",
            "            }\n",
            "          ]\n",
            "        }\n",
            "      ],\n",
            "      \"usage_metadata\": {\n",
            "        \"prompt_token_count\": 44,\n",
            "        \"candidates_token_count\": 409,\n",
            "        \"total_token_count\": 453\n",
            "      }\n",
            "    }),\n",
            ")\n"
          ]
        }
      ]
    },
    {
      "cell_type": "markdown",
      "source": [
        "## 使用列舉來限制輸出\n"
      ],
      "metadata": {
        "id": "9QJRkN28MGci"
      }
    },
    {
      "cell_type": "code",
      "source": [
        "!curl -o organ.jpg https://upload.wikimedia.org/wikipedia/commons/0/06/Orgel_i_Tranebjerg_Kirke_%28Sams%C3%B8_Kommune%29.JPG"
      ],
      "metadata": {
        "colab": {
          "base_uri": "https://localhost:8080/"
        },
        "id": "7GaYeaBCNFyp",
        "outputId": "70801a4b-5145-48ce-8303-abb1f5dc5086"
      },
      "execution_count": 13,
      "outputs": [
        {
          "output_type": "stream",
          "name": "stdout",
          "text": [
            "  % Total    % Received % Xferd  Average Speed   Time    Time     Time  Current\n",
            "                                 Dload  Upload   Total   Spent    Left  Speed\n",
            "100 5864k  100 5864k    0     0   823k      0  0:00:07  0:00:07 --:--:--  933k\n"
          ]
        }
      ]
    },
    {
      "cell_type": "code",
      "source": [
        "# Upload the file and print a confirmation.\n",
        "sample_file = genai.upload_file(path=\"organ.jpg\",\n",
        "                            display_name=\"organ\")\n",
        "\n",
        "print(f\"Uploaded file '{sample_file.display_name}' as: {sample_file.uri}\")"
      ],
      "metadata": {
        "colab": {
          "base_uri": "https://localhost:8080/",
          "height": 35
        },
        "id": "8Uf4t8RaN-Om",
        "outputId": "0060bd29-3e66-4264-8789-2c289998d06a"
      },
      "execution_count": 15,
      "outputs": [
        {
          "output_type": "stream",
          "name": "stdout",
          "text": [
            "Uploaded file 'organ' as: https://generativelanguage.googleapis.com/v1beta/files/t4gdqk6ltr5o\n"
          ]
        }
      ]
    },
    {
      "cell_type": "code",
      "source": [
        "import google.generativeai as genai\n",
        "!pip install typing_extensions"
      ],
      "metadata": {
        "id": "j7x2MFP-PyfJ"
      },
      "execution_count": 20,
      "outputs": []
    },
    {
      "cell_type": "code",
      "source": [
        "import enum\n",
        "from typing import TypedDict\n",
        "\n",
        "from typing_extensions import TypedDict # Use typing_extensions.TypedDict\n",
        "\n",
        "\n",
        "# Define a TypedDict for the schema\n",
        "class ChoiceSchema(TypedDict):\n",
        "    value: str\n",
        "\n",
        "# Define your enum class\n",
        "class Choice(enum.Enum):\n",
        "    PERCUSSION = \"打擊樂\"\n",
        "    STRING = \"字串\"\n",
        "    WOODWIND = \"木管樂器\"\n",
        "    BRASS = \"黃銅\"\n",
        "    KEYBOARD = \"鍵盤\"\n",
        "\n",
        "model = genai.GenerativeModel(\"gemini-1.5-pro-latest\")\n",
        "\n",
        "organ = genai.upload_file(path=\"organ.jpg\",\n",
        "                            display_name=\"organ\")\n",
        "result = model.generate_content(\n",
        "    [\"這是什麼樂器：\",organ],\n",
        "    generation_config=genai.GenerationConfig(\n",
        "        response_mime_type=\"text/x.enum\", response_schema=ChoiceSchema\n",
        "    ),\n",
        ")\n",
        "\n",
        "\n",
        "print(result)  # Keyboard"
      ],
      "metadata": {
        "colab": {
          "base_uri": "https://localhost:8080/",
          "height": 803
        },
        "id": "wZp7UvlqMKWh",
        "outputId": "81c037e6-1040-45cc-fe2a-3e366be5c726"
      },
      "execution_count": 29,
      "outputs": [
        {
          "output_type": "stream",
          "name": "stdout",
          "text": [
            "response:\n",
            "GenerateContentResponse(\n",
            "    done=True,\n",
            "    iterator=None,\n",
            "    result=protos.GenerateContentResponse({\n",
            "      \"candidates\": [\n",
            "        {\n",
            "          \"content\": {\n",
            "            \"parts\": [\n",
            "              {\n",
            "                \"text\": \"\\u9019\\u4ef6\\u6a02\\u5668\\u662f\\u4e00\\u53f0**\\u7ba1\\u98a8\\u7434**\\u3002\"\n",
            "              }\n",
            "            ],\n",
            "            \"role\": \"model\"\n",
            "          },\n",
            "          \"finish_reason\": \"STOP\",\n",
            "          \"index\": 0,\n",
            "          \"safety_ratings\": [\n",
            "            {\n",
            "              \"category\": \"HARM_CATEGORY_SEXUALLY_EXPLICIT\",\n",
            "              \"probability\": \"NEGLIGIBLE\"\n",
            "            },\n",
            "            {\n",
            "              \"category\": \"HARM_CATEGORY_HATE_SPEECH\",\n",
            "              \"probability\": \"NEGLIGIBLE\"\n",
            "            },\n",
            "            {\n",
            "              \"category\": \"HARM_CATEGORY_HARASSMENT\",\n",
            "              \"probability\": \"NEGLIGIBLE\"\n",
            "            },\n",
            "            {\n",
            "              \"category\": \"HARM_CATEGORY_DANGEROUS_CONTENT\",\n",
            "              \"probability\": \"NEGLIGIBLE\"\n",
            "            }\n",
            "          ]\n",
            "        }\n",
            "      ],\n",
            "      \"usage_metadata\": {\n",
            "        \"prompt_token_count\": 264,\n",
            "        \"candidates_token_count\": 12,\n",
            "        \"total_token_count\": 276\n",
            "      }\n",
            "    }),\n",
            ")\n"
          ]
        }
      ]
    },
    {
      "cell_type": "markdown",
      "source": [
        "### 您也可以將架構作為 JSON 傳遞："
      ],
      "metadata": {
        "id": "_BIF32XYZliC"
      }
    },
    {
      "cell_type": "code",
      "source": [
        "model = genai.GenerativeModel(\"gemini-1.5-pro-latest\")\n",
        "\n",
        "organ = genai.upload_file(\"organ.jpg\")\n",
        "result = model.generate_content(\n",
        "    [\"請用繁體中文回答這是什麼樂器：\", organ],\n",
        "    generation_config=genai.GenerationConfig(\n",
        "        response_mime_type=\"text/x.enum\",\n",
        "        response_schema={\n",
        "            \"type\": \"STRING\",\n",
        "            \"enum\": [\"打擊樂\", \"字串\", \"木管樂器\", \"黃銅\", \"鍵盤\"],\n",
        "        },\n",
        "    ),\n",
        ")\n",
        "print(result)  # Keyboard"
      ],
      "metadata": {
        "colab": {
          "base_uri": "https://localhost:8080/",
          "height": 803
        },
        "id": "iu4zsJEFQzsp",
        "outputId": "41923133-b3d0-4e46-ef96-096a3081fe4d"
      },
      "execution_count": 32,
      "outputs": [
        {
          "output_type": "stream",
          "name": "stdout",
          "text": [
            "response:\n",
            "GenerateContentResponse(\n",
            "    done=True,\n",
            "    iterator=None,\n",
            "    result=protos.GenerateContentResponse({\n",
            "      \"candidates\": [\n",
            "        {\n",
            "          \"content\": {\n",
            "            \"parts\": [\n",
            "              {\n",
            "                \"text\": \" \\u9375\\u76e4\"\n",
            "              }\n",
            "            ],\n",
            "            \"role\": \"model\"\n",
            "          },\n",
            "          \"finish_reason\": \"STOP\",\n",
            "          \"index\": 0,\n",
            "          \"safety_ratings\": [\n",
            "            {\n",
            "              \"category\": \"HARM_CATEGORY_SEXUALLY_EXPLICIT\",\n",
            "              \"probability\": \"NEGLIGIBLE\"\n",
            "            },\n",
            "            {\n",
            "              \"category\": \"HARM_CATEGORY_HATE_SPEECH\",\n",
            "              \"probability\": \"NEGLIGIBLE\"\n",
            "            },\n",
            "            {\n",
            "              \"category\": \"HARM_CATEGORY_HARASSMENT\",\n",
            "              \"probability\": \"NEGLIGIBLE\"\n",
            "            },\n",
            "            {\n",
            "              \"category\": \"HARM_CATEGORY_DANGEROUS_CONTENT\",\n",
            "              \"probability\": \"NEGLIGIBLE\"\n",
            "            }\n",
            "          ]\n",
            "        }\n",
            "      ],\n",
            "      \"usage_metadata\": {\n",
            "        \"prompt_token_count\": 270,\n",
            "        \"candidates_token_count\": 2,\n",
            "        \"total_token_count\": 272\n",
            "      }\n",
            "    }),\n",
            ")\n"
          ]
        }
      ]
    },
    {
      "cell_type": "markdown",
      "source": [
        "\n",
        "\n",
        "### 向模型詢問食譜標題列表，並使用列舉Grade為每個標題提供評份等級\n",
        "\n"
      ],
      "metadata": {
        "id": "d5EC5JtQSb7B"
      }
    },
    {
      "cell_type": "code",
      "source": [
        "!pip install pydantic"
      ],
      "metadata": {
        "colab": {
          "base_uri": "https://localhost:8080/"
        },
        "id": "HeUqo9FyS4qE",
        "outputId": "773e4c09-07ad-4c46-ce78-ef5691d31d19"
      },
      "execution_count": 34,
      "outputs": [
        {
          "output_type": "stream",
          "name": "stdout",
          "text": [
            "Requirement already satisfied: pydantic in /usr/local/lib/python3.10/dist-packages (2.9.2)\n",
            "Requirement already satisfied: annotated-types>=0.6.0 in /usr/local/lib/python3.10/dist-packages (from pydantic) (0.7.0)\n",
            "Requirement already satisfied: pydantic-core==2.23.4 in /usr/local/lib/python3.10/dist-packages (from pydantic) (2.23.4)\n",
            "Requirement already satisfied: typing-extensions>=4.6.1 in /usr/local/lib/python3.10/dist-packages (from pydantic) (4.12.2)\n"
          ]
        }
      ]
    },
    {
      "cell_type": "code",
      "source": [
        "import enum\n",
        "from typing import List, TypedDict\n",
        "from typing_extensions import TypedDict\n",
        "from pydantic import BaseModel, Field\n",
        "\n",
        "class Grade(enum.Enum):\n",
        "    A_PLUS = \"a+\"\n",
        "    A = \"a\"\n",
        "    B = \"b\"\n",
        "    C = \"c\"\n",
        "    D = \"d\"\n",
        "    F = \"f\"\n",
        "\n",
        "class Recipe(TypedDict):\n",
        "    grade: Grade\n",
        "    recipe_name: str\n",
        "\n",
        "model = genai.GenerativeModel(\"gemini-1.5-pro-latest\")\n",
        "\n",
        "result = model.generate_content(\n",
        "    \"列出大約 10 種中餐食譜，根據受歡迎程度對它們進行評分\",\n",
        "    generation_config=genai.GenerationConfig(\n",
        "        response_mime_type=\"application/json\",\n",
        "        response_schema={\n",
        "            \"type\": \"array\",\n",
        "            \"items\": {\n",
        "                \"type\": \"object\",\n",
        "                \"properties\": {\n",
        "                    \"grade\": {\"type\": \"string\", \"enum\": [e.value for e in Grade]},\n",
        "                    \"recipe_name\": {\"type\": \"string\"},\n",
        "                },\n",
        "            },\n",
        "        }\n",
        "    ),\n",
        "    request_options={\"timeout\": 600},\n",
        ")\n",
        "print(result)  # [{\"grade\": \"a+\", \"recipe_name\": \"Mapo Tofu\"}, ...]"
      ],
      "metadata": {
        "colab": {
          "base_uri": "https://localhost:8080/",
          "height": 823
        },
        "id": "CmcyefxsSdgD",
        "outputId": "4511c904-9223-4e91-f5ef-c0baf95ec32d"
      },
      "execution_count": 45,
      "outputs": [
        {
          "output_type": "stream",
          "name": "stdout",
          "text": [
            "response:\n",
            "GenerateContentResponse(\n",
            "    done=True,\n",
            "    iterator=None,\n",
            "    result=protos.GenerateContentResponse({\n",
            "      \"candidates\": [\n",
            "        {\n",
            "          \"content\": {\n",
            "            \"parts\": [\n",
            "              {\n",
            "                \"text\": \"[{\\\"grade\\\": \\\"a+\\\", \\\"recipe_name\\\": \\\"Kung Pao Chicken\\\"}, {\\\"grade\\\": \\\"a+\\\", \\\"recipe_name\\\": \\\"Mapo Tofu\\\"}, {\\\"grade\\\": \\\"a\\\", \\\"recipe_name\\\": \\\"Chow Mein\\\"}, {\\\"grade\\\": \\\"a\\\", \\\"recipe_name\\\": \\\"Sweet and Sour Pork\\\"}, {\\\"grade\\\": \\\"a\\\", \\\"recipe_name\\\": \\\"Dumplings\\\"}, {\\\"grade\\\": \\\"a\\\", \\\"recipe_name\\\": \\\"Spring Rolls\\\"}, {\\\"grade\\\": \\\"b\\\", \\\"recipe_name\\\": \\\"Peking Duck\\\"}, {\\\"grade\\\": \\\"b\\\", \\\"recipe_name\\\": \\\"Wontons\\\"}, {\\\"grade\\\": \\\"b\\\", \\\"recipe_name\\\": \\\"Fried Rice\\\"}, {\\\"grade\\\": \\\"b\\\", \\\"recipe_name\\\": \\\"Lo Mein\\\"}] \"\n",
            "              }\n",
            "            ],\n",
            "            \"role\": \"model\"\n",
            "          },\n",
            "          \"finish_reason\": \"STOP\",\n",
            "          \"index\": 0,\n",
            "          \"safety_ratings\": [\n",
            "            {\n",
            "              \"category\": \"HARM_CATEGORY_SEXUALLY_EXPLICIT\",\n",
            "              \"probability\": \"NEGLIGIBLE\"\n",
            "            },\n",
            "            {\n",
            "              \"category\": \"HARM_CATEGORY_HATE_SPEECH\",\n",
            "              \"probability\": \"NEGLIGIBLE\"\n",
            "            },\n",
            "            {\n",
            "              \"category\": \"HARM_CATEGORY_HARASSMENT\",\n",
            "              \"probability\": \"NEGLIGIBLE\"\n",
            "            },\n",
            "            {\n",
            "              \"category\": \"HARM_CATEGORY_DANGEROUS_CONTENT\",\n",
            "              \"probability\": \"NEGLIGIBLE\"\n",
            "            }\n",
            "          ]\n",
            "        }\n",
            "      ],\n",
            "      \"usage_metadata\": {\n",
            "        \"prompt_token_count\": 22,\n",
            "        \"candidates_token_count\": 158,\n",
            "        \"total_token_count\": 180\n",
            "      }\n",
            "    }),\n",
            ")\n"
          ]
        }
      ]
    }
  ]
}