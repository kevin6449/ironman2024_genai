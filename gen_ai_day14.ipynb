{
  "nbformat": 4,
  "nbformat_minor": 0,
  "metadata": {
    "colab": {
      "provenance": [],
      "authorship_tag": "ABX9TyNwKq08Y0oUWUQhNT9CZCCf",
      "include_colab_link": true
    },
    "kernelspec": {
      "name": "python3",
      "display_name": "Python 3"
    },
    "language_info": {
      "name": "python"
    }
  },
  "cells": [
    {
      "cell_type": "markdown",
      "metadata": {
        "id": "view-in-github",
        "colab_type": "text"
      },
      "source": [
        "<a href=\"https://colab.research.google.com/github/kevin6449/ironman2024_genai/blob/main/gen_ai_day14.ipynb\" target=\"_parent\"><img src=\"https://colab.research.google.com/assets/colab-badge.svg\" alt=\"Open In Colab\"/></a>"
      ]
    },
    {
      "cell_type": "markdown",
      "source": [
        "# 函式呼叫"
      ],
      "metadata": {
        "id": "utrs_6iZyeOc"
      }
    },
    {
      "cell_type": "markdown",
      "source": [
        "函式呼叫可讓您輕鬆取得結構化資料輸出內容 生成式模型接著，您可以使用這些輸出內容呼叫其他 API，並將相關回應資料傳回模型。換句話說，函式呼叫有助於 必須連結生成式模型與外部系統 內含最新且準確的資訊。"
      ],
      "metadata": {
        "id": "nPwB9MNzygNe"
      }
    },
    {
      "cell_type": "code",
      "execution_count": 8,
      "metadata": {
        "id": "fF9sonnDCQUv"
      },
      "outputs": [],
      "source": [
        "import google.generativeai as genai"
      ]
    },
    {
      "cell_type": "code",
      "source": [
        "from google.colab import userdata\n",
        "\n",
        "API_KEY=userdata.get('GOOGLE_API_KEY')"
      ],
      "metadata": {
        "id": "draDFuHgCXaP"
      },
      "execution_count": 9,
      "outputs": []
    },
    {
      "cell_type": "code",
      "source": [
        "#genai.configure(api_key=\"YOUR_API_KEY\")\n",
        "\n",
        "# Configure the client library by providing your API key.\n",
        "genai.configure(api_key=API_KEY)"
      ],
      "metadata": {
        "id": "269GYgOBCaO9"
      },
      "execution_count": 10,
      "outputs": []
    },
    {
      "cell_type": "markdown",
      "source": [
        "### 平行函式呼叫"
      ],
      "metadata": {
        "id": "HN7d6-t205Zm"
      }
    },
    {
      "cell_type": "markdown",
      "source": [
        "定義工具"
      ],
      "metadata": {
        "id": "VATYloFY1_aP"
      }
    },
    {
      "cell_type": "code",
      "source": [
        "def power_disco_ball(power: bool) -> bool:\n",
        "    \"\"\"供電旋轉的迪斯可球。\"\"\"\n",
        "    print(f\"迪斯可球 是 {'旋轉!' if power else '停止.'}\")\n",
        "    return True\n",
        "\n",
        "\n",
        "def start_music(energetic: bool, loud: bool, bpm: int) -> str:\n",
        "    \"\"\"播放一些符合指定參數的音樂。\n",
        "\n",
        "    Args:\n",
        "      energetic：音樂是否充滿活力。\n",
        "      loud：音樂是否響亮。\n",
        "      bpm：音樂每分鐘的節拍數。\n",
        "\n",
        "    Returns: 正在播放的歌曲的名稱。\n",
        "    \"\"\"\n",
        "    print(f\"Starting music! {energetic=} {loud=}, {bpm=}\")\n",
        "    return \"絕對不會放棄你。\"\n",
        "\n",
        "\n",
        "def dim_lights(brightness: float) -> bool:\n",
        "    \"\"\"調暗燈光.\n",
        "\n",
        "    Args:\n",
        "      brightness: 燈光的亮度，0.0為關閉，1.0為全亮。\n",
        "    \"\"\"\n",
        "    print(f\"燈光現已設定為 {brightness:.0%}\")\n",
        "    return True"
      ],
      "metadata": {
        "id": "SbhL4SAoCay4"
      },
      "execution_count": 11,
      "outputs": []
    },
    {
      "cell_type": "markdown",
      "source": [
        "### 可使用所有指定工具的指令來呼叫模型"
      ],
      "metadata": {
        "id": "yfxjCO63y5ai"
      }
    },
    {
      "cell_type": "code",
      "source": [
        "# Set the model up with tools.\n",
        "house_fns = [power_disco_ball, start_music, dim_lights]\n",
        "\n",
        "model = genai.GenerativeModel(model_name=\"gemini-1.5-flash\", tools=house_fns)\n",
        "\n",
        "# Call the API.\n",
        "chat = model.start_chat()\n",
        "response = chat.send_message(\"把這個地方變成一個聚會！\")\n",
        "\n",
        "# Print out each of the function calls requested from this single call.\n",
        "for part in response.parts:\n",
        "    if fn := part.function_call:\n",
        "        args = \", \".join(f\"{key}={val}\" for key, val in fn.args.items())\n",
        "        print(f\"{fn.name}({args})\")"
      ],
      "metadata": {
        "colab": {
          "base_uri": "https://localhost:8080/",
          "height": 71
        },
        "id": "Y6-UbRB3Cg6l",
        "outputId": "cf944a02-d206-4715-c04d-d0bb8ccf7820"
      },
      "execution_count": 12,
      "outputs": [
        {
          "output_type": "stream",
          "name": "stdout",
          "text": [
            "power_disco_ball(power=True)\n",
            "start_music(bpm=120.0, energetic=True, loud=True)\n",
            "dim_lights(brightness=0.5)\n"
          ]
        }
      ]
    },
    {
      "cell_type": "markdown",
      "source": [
        "每個顯示的結果都代表模型要求的單一函式呼叫。如要傳回結果，請按照要求的順序加入回應。"
      ],
      "metadata": {
        "id": "aMUjVPTl2l5y"
      }
    },
    {
      "cell_type": "code",
      "source": [
        "# Simulate the responses from the specified tools.\n",
        "responses = {\n",
        "    \"power_disco_ball\": True,\n",
        "    \"start_music\": \"Never gonna give you up.\",\n",
        "    \"dim_lights\": True,\n",
        "}\n",
        "\n",
        "# Build the response parts.\n",
        "response_parts = [\n",
        "    genai.protos.Part(function_response=genai.protos.FunctionResponse(name=fn, response={\"result\": val}))\n",
        "    for fn, val in responses.items()\n",
        "]\n",
        "\n",
        "response = chat.send_message(response_parts)\n",
        "print(response.text)"
      ],
      "metadata": {
        "colab": {
          "base_uri": "https://localhost:8080/",
          "height": 53
        },
        "id": "RQxTJrUqCg00",
        "outputId": "391bfc6c-97b9-4255-efd4-3bf2333904bd"
      },
      "execution_count": 13,
      "outputs": [
        {
          "output_type": "stream",
          "name": "stdout",
          "text": [
            "好的！我已經打開了迪斯可球、播放了活力十足的音樂，並將燈光調暗了一點。準備好派對吧！ \n",
            "\n"
          ]
        }
      ]
    },
    {
      "cell_type": "markdown",
      "source": [
        "#AllowedType = (int | float | bool | str | list['AllowedType'] | dict[str, AllowedType])"
      ],
      "metadata": {
        "id": "a7haAVSCDVsF"
      }
    },
    {
      "cell_type": "markdown",
      "source": [
        "### 函式呼叫資料類型對應"
      ],
      "metadata": {
        "id": "r84ObrcY1Efd"
      }
    },
    {
      "cell_type": "markdown",
      "source": [
        "描述您傳遞至模型的函式"
      ],
      "metadata": {
        "id": "tl7nWwVW3Imp"
      }
    },
    {
      "cell_type": "code",
      "source": [
        "def multiply(a:float, b:float):\n",
        "    \"\"\"returns a * b.\"\"\"\n",
        "    return a*b\n",
        "\n",
        "model = genai.GenerativeModel(model_name='gemini-1.5-flash',\n",
        "                             tools=[multiply])\n",
        "\n",
        "model._tools.to_proto()"
      ],
      "metadata": {
        "colab": {
          "base_uri": "https://localhost:8080/"
        },
        "id": "hd-EQh_YCpM2",
        "outputId": "d6171443-55ef-4776-eb35-2f892539c639"
      },
      "execution_count": 14,
      "outputs": [
        {
          "output_type": "execute_result",
          "data": {
            "text/plain": [
              "[function_declarations {\n",
              "   name: \"multiply\"\n",
              "   description: \"returns a * b.\"\n",
              "   parameters {\n",
              "     type_: OBJECT\n",
              "     properties {\n",
              "       key: \"a\"\n",
              "       value {\n",
              "         type_: NUMBER\n",
              "       }\n",
              "     }\n",
              "     properties {\n",
              "       key: \"b\"\n",
              "       value {\n",
              "         type_: NUMBER\n",
              "       }\n",
              "     }\n",
              "     required: \"a\"\n",
              "     required: \"b\"\n",
              "   }\n",
              " }]"
            ]
          },
          "metadata": {},
          "execution_count": 14
        }
      ]
    },
    {
      "cell_type": "markdown",
      "source": [
        "### 使用 genai.protos 類別編寫的相同乘法函式宣告"
      ],
      "metadata": {
        "id": "EEHz4bgV3ZNj"
      }
    },
    {
      "cell_type": "code",
      "source": [
        "calculator = genai.protos.Tool(\n",
        "    function_declarations=[\n",
        "      genai.protos.FunctionDeclaration(\n",
        "        name='multiply',\n",
        "        description=\"傳回兩個數字的乘積。\",\n",
        "        parameters=genai.protos.Schema(\n",
        "            type=genai.protos.Type.OBJECT,\n",
        "            properties={\n",
        "                'a':genai.protos.Schema(type=genai.protos.Type.NUMBER),\n",
        "                'b':genai.protos.Schema(type=genai.protos.Type.NUMBER)\n",
        "            },\n",
        "            required=['a','b']\n",
        "        )\n",
        "      )\n",
        "    ])"
      ],
      "metadata": {
        "id": "8FbJYFGkCrUK"
      },
      "execution_count": 15,
      "outputs": []
    },
    {
      "cell_type": "markdown",
      "source": [
        "將此項目描述為與 JSON 相容的物件"
      ],
      "metadata": {
        "id": "IHZ9Zrb73gCA"
      }
    },
    {
      "cell_type": "code",
      "source": [
        "calculator = {'function_declarations': [\n",
        "      {'name': 'multiply',\n",
        "       'description': '傳回兩個數字的乘積。',\n",
        "       'parameters': {'type_': 'OBJECT',\n",
        "       'properties': {\n",
        "         'a': {'type_': 'NUMBER'},\n",
        "         'b': {'type_': 'NUMBER'} },\n",
        "       'required': ['a', 'b']} }]}"
      ],
      "metadata": {
        "id": "Ptp2kEWDCtl_"
      },
      "execution_count": 16,
      "outputs": []
    },
    {
      "cell_type": "markdown",
      "source": [
        "將 genai.protos.Tool 的表示法或工具清單傳遞"
      ],
      "metadata": {
        "id": "zdSxgOAJ3qMk"
      }
    },
    {
      "cell_type": "code",
      "source": [
        "model = genai.GenerativeModel('gemini-1.5-flash', tools=calculator)\n",
        "chat = model.start_chat()\n",
        "\n",
        "response = chat.send_message(\n",
        "    f\"234551 X 325552 是多少？\",\n",
        ")\n",
        "print(response)"
      ],
      "metadata": {
        "colab": {
          "base_uri": "https://localhost:8080/",
          "height": 910
        },
        "id": "qMoFnNMlCwDz",
        "outputId": "5eda1784-1ce9-43f0-eaac-ae5b3ac0ee01"
      },
      "execution_count": 17,
      "outputs": [
        {
          "output_type": "stream",
          "name": "stdout",
          "text": [
            "response:\n",
            "GenerateContentResponse(\n",
            "    done=True,\n",
            "    iterator=None,\n",
            "    result=protos.GenerateContentResponse({\n",
            "      \"candidates\": [\n",
            "        {\n",
            "          \"content\": {\n",
            "            \"parts\": [\n",
            "              {\n",
            "                \"function_call\": {\n",
            "                  \"name\": \"multiply\",\n",
            "                  \"args\": {\n",
            "                    \"b\": 325552.0,\n",
            "                    \"a\": 234551.0\n",
            "                  }\n",
            "                }\n",
            "              }\n",
            "            ],\n",
            "            \"role\": \"model\"\n",
            "          },\n",
            "          \"finish_reason\": \"STOP\",\n",
            "          \"index\": 0,\n",
            "          \"safety_ratings\": [\n",
            "            {\n",
            "              \"category\": \"HARM_CATEGORY_DANGEROUS_CONTENT\",\n",
            "              \"probability\": \"NEGLIGIBLE\"\n",
            "            },\n",
            "            {\n",
            "              \"category\": \"HARM_CATEGORY_HARASSMENT\",\n",
            "              \"probability\": \"NEGLIGIBLE\"\n",
            "            },\n",
            "            {\n",
            "              \"category\": \"HARM_CATEGORY_SEXUALLY_EXPLICIT\",\n",
            "              \"probability\": \"NEGLIGIBLE\"\n",
            "            },\n",
            "            {\n",
            "              \"category\": \"HARM_CATEGORY_HATE_SPEECH\",\n",
            "              \"probability\": \"NEGLIGIBLE\"\n",
            "            }\n",
            "          ]\n",
            "        }\n",
            "      ],\n",
            "      \"usage_metadata\": {\n",
            "        \"prompt_token_count\": 67,\n",
            "        \"candidates_token_count\": 28,\n",
            "        \"total_token_count\": 95\n",
            "      }\n",
            "    }),\n",
            ")\n"
          ]
        }
      ]
    },
    {
      "cell_type": "markdown",
      "source": [
        "模型傳回 genai.protos.FunctionCall，叫用計算機的 multiply 函式"
      ],
      "metadata": {
        "id": "dvnJqmxB3zih"
      }
    },
    {
      "cell_type": "code",
      "source": [
        "response.candidates"
      ],
      "metadata": {
        "colab": {
          "base_uri": "https://localhost:8080/"
        },
        "id": "QAyKmeU5384W",
        "outputId": "f5f480b0-65c2-4f30-bee2-c21405a0f7b2"
      },
      "execution_count": 20,
      "outputs": [
        {
          "output_type": "execute_result",
          "data": {
            "text/plain": [
              "[content {\n",
              "  parts {\n",
              "    text: \"234551 X 325552 \\347\\255\\211\\346\\226\\274 76358547152\\343\\200\\202\"\n",
              "  }\n",
              "  role: \"model\"\n",
              "}\n",
              "finish_reason: STOP\n",
              "index: 0\n",
              "safety_ratings {\n",
              "  category: HARM_CATEGORY_SEXUALLY_EXPLICIT\n",
              "  probability: NEGLIGIBLE\n",
              "}\n",
              "safety_ratings {\n",
              "  category: HARM_CATEGORY_HATE_SPEECH\n",
              "  probability: NEGLIGIBLE\n",
              "}\n",
              "safety_ratings {\n",
              "  category: HARM_CATEGORY_HARASSMENT\n",
              "  probability: NEGLIGIBLE\n",
              "}\n",
              "safety_ratings {\n",
              "  category: HARM_CATEGORY_DANGEROUS_CONTENT\n",
              "  probability: NEGLIGIBLE\n",
              "}\n",
              "]"
            ]
          },
          "metadata": {},
          "execution_count": 20
        }
      ]
    },
    {
      "cell_type": "markdown",
      "source": [
        "### 自行執行函式"
      ],
      "metadata": {
        "id": "gz5va6C04FDO"
      }
    },
    {
      "cell_type": "code",
      "source": [
        "fc = response.candidates[0].content.parts[0].function_call\n",
        "assert fc.name == 'multiply'\n",
        "\n",
        "result = fc.args['a'] * fc.args['b']\n",
        "result"
      ],
      "metadata": {
        "colab": {
          "base_uri": "https://localhost:8080/"
        },
        "id": "FPtSN38YCybX",
        "outputId": "56614b7f-62c5-42b4-f8d7-954145647dc2"
      },
      "execution_count": 18,
      "outputs": [
        {
          "output_type": "execute_result",
          "data": {
            "text/plain": [
              "76358547152.0"
            ]
          },
          "metadata": {},
          "execution_count": 18
        }
      ]
    },
    {
      "cell_type": "markdown",
      "source": [
        "將結果傳送至模型，即可繼續對話"
      ],
      "metadata": {
        "id": "a4ypVYMW4KRG"
      }
    },
    {
      "cell_type": "code",
      "source": [
        "response = chat.send_message(\n",
        "    genai.protos.Content(\n",
        "    parts=[genai.protos.Part(\n",
        "        function_response = genai.protos.FunctionResponse(\n",
        "          name='multiply',\n",
        "          response={'result': result}))]))\n",
        "\n",
        "print(response.text)"
      ],
      "metadata": {
        "colab": {
          "base_uri": "https://localhost:8080/",
          "height": 35
        },
        "id": "w-uh07QOCyTi",
        "outputId": "a5055f20-f260-4b59-8638-7900411725ec"
      },
      "execution_count": 19,
      "outputs": [
        {
          "output_type": "stream",
          "name": "stdout",
          "text": [
            "234551 X 325552 等於 76358547152。\n"
          ]
        }
      ]
    }
  ]
}